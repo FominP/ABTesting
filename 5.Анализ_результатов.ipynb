{
 "cells": [
  {
   "cell_type": "markdown",
   "metadata": {
    "id": "UjRdQbazhznB"
   },
   "source": [
    "**5. Анализ результатов. ЗАДАНИЯ.**\n"
   ]
  },
  {
   "cell_type": "markdown",
   "metadata": {
    "id": "AX84Ul_7aUic"
   },
   "source": [
    "# Описание задачи"
   ]
  },
  {
   "cell_type": "markdown",
   "metadata": {
    "id": "kDPS_Kl9BsSx"
   },
   "source": [
    "## Информация из предыдущих этапов"
   ]
  },
  {
   "cell_type": "markdown",
   "metadata": {
    "id": "DPu_X8zdhOjp"
   },
   "source": [
    "**Постановка кейса.**\n",
    "\n",
    "В рамках практических заданий мы будем работать аналитиком на платформе по подаче объявлений. По результатам исследований мы выяснили, что недавно введенной функцией доставки пользуются редко. В рамках идей по исправлению ситуации была предложена инициатива выдать скидку в 20% на данную услугу, зачеркнув старую цену и написав рядом новую на карточках объявлений, в которых доступна доставка. Нам поставлена задача оценить данную инициативу.\n",
    "\n",
    "**Метрики.**\n",
    "\n",
    "По резульатам командного обсуждения было принято назначить целевой метрикой выручку. Прочие метрики, за которыми ваша команда планирует наблюдать: выручка с доставки, пользователи с доставкой, количество ошибок на экранах доставочный айтемов, количество заказов без доставки.\n",
    "\n",
    "**Критерий.**\n",
    "\n",
    "По результатам предыдущего исследования наш выбор пал на тест Стьюдента. Предполагаем, что будем использовать его.\n",
    "\n",
    "**MDE, N, alpha, beta**\n",
    "\n",
    "По результатам обсуждения с аналитиками и продуктами было принято решение остановиться на ошибках 1 и 2 рода в 1% при MDE в 1.4% для основной метрики. N = 5 mln в каждой группе, длительность эксперимента - 21 день.\n",
    "\n",
    "**Разбиение на тест-контроль**\n",
    "\n",
    "Мы реализовали функцию деления выборки на тест-контроль с помощью остатка от деления от хэша id юзера и соли эксперимента. При этом мы модифицировали функцию так, чтобы данные до начала эксперимента не отличались между собой статистически значимо ни по одной метрике."
   ]
  },
  {
   "cell_type": "markdown",
   "metadata": {
    "id": "68F0fs_gBwQZ"
   },
   "source": [
    "## Текущее задание"
   ]
  },
  {
   "cell_type": "markdown",
   "metadata": {
    "id": "itHvxbL4UGGE"
   },
   "source": [
    "**Анализ результатов.**\n",
    "\n",
    "Ваш коллега проанализировал тест, и оказалось, что ни по 1 метрике не обнаружилось статистически значимой разницы. Хотя тестовая группа и выигрывала по целевой и прокси-метрикам, доверительный интервал перекрывал 0, p value был значительно выше 0.05.\n",
    "\n",
    "Следующим этапом было решено проанализировать наиболее чувствительный сегмент. Ваши коллеги подготовили такую выборку, на которую тестовое воздействие должно было повлиять наибольшим образом. В нее попали те пользователи, что находятся в удаленых регионах и переходили на карточки объявлений с возможностью доставки. То есть этим юзерам актуальна доставка, и они точно видели тестовое воздействие (или потенциально увидели бы его, если речь идет о контроле). Проанализируйте эти данные (task_5) и сделайте вывод!"
   ]
  },
  {
   "cell_type": "markdown",
   "metadata": {
    "id": "IfWd8OC_RLmF"
   },
   "source": [
    "Суммарно можно получить более 10 баллов. Помимо непосредственно заданий есть скрытые баллы, которые можно получить, если писать хороший код и делать то, о чем говорилось на лекциях. При этом оценка будет рассчитываться из расчета, что 9 баллов - это 100% выполнения."
   ]
  },
  {
   "cell_type": "code",
   "execution_count": 2,
   "metadata": {
    "id": "fkY-d88CzAj3",
    "tags": []
   },
   "outputs": [],
   "source": [
    "import pandas as pd\n",
    "import numpy as np\n",
    "from collections import namedtuple\n",
    "from scipy.stats import norm, chisquare\n",
    "from statsmodels.stats.proportion import proportion_confint\n",
    "from sklearn.model_selection import train_test_split\n",
    "from tqdm import tqdm"
   ]
  },
  {
   "cell_type": "markdown",
   "metadata": {
    "id": "bf4TbX3Oiouh"
   },
   "source": [
    "# Проверка SRM. 1 балл"
   ]
  },
  {
   "cell_type": "markdown",
   "metadata": {
    "id": "wrG0UPKIlOVn"
   },
   "source": [
    "## Формулировка"
   ]
  },
  {
   "cell_type": "markdown",
   "metadata": {
    "id": "ZAECekKJe429"
   },
   "source": [
    "Прежде чем проанализировать тест, убедимся в его здоровье, а именно - SRM. Убедитесь, что несоответствие коэффициента выборки не явлвяется статистически значимым."
   ]
  },
  {
   "cell_type": "code",
   "execution_count": 3,
   "metadata": {
    "tags": []
   },
   "outputs": [
    {
     "data": {
      "text/html": [
       "<div>\n",
       "<style scoped>\n",
       "    .dataframe tbody tr th:only-of-type {\n",
       "        vertical-align: middle;\n",
       "    }\n",
       "\n",
       "    .dataframe tbody tr th {\n",
       "        vertical-align: top;\n",
       "    }\n",
       "\n",
       "    .dataframe thead th {\n",
       "        text-align: right;\n",
       "    }\n",
       "</style>\n",
       "<table border=\"1\" class=\"dataframe\">\n",
       "  <thead>\n",
       "    <tr style=\"text-align: right;\">\n",
       "      <th></th>\n",
       "      <th>user_id</th>\n",
       "      <th>revenue</th>\n",
       "      <th>delivery_revenue</th>\n",
       "      <th>has_delivery</th>\n",
       "      <th>error_count</th>\n",
       "      <th>order_wo_delivery</th>\n",
       "      <th>is_test</th>\n",
       "    </tr>\n",
       "  </thead>\n",
       "  <tbody>\n",
       "    <tr>\n",
       "      <th>0</th>\n",
       "      <td>5488135039</td>\n",
       "      <td>0.0</td>\n",
       "      <td>0.0</td>\n",
       "      <td>False</td>\n",
       "      <td>0</td>\n",
       "      <td>2</td>\n",
       "      <td>True</td>\n",
       "    </tr>\n",
       "    <tr>\n",
       "      <th>1</th>\n",
       "      <td>7151893663</td>\n",
       "      <td>0.0</td>\n",
       "      <td>0.0</td>\n",
       "      <td>False</td>\n",
       "      <td>0</td>\n",
       "      <td>2</td>\n",
       "      <td>True</td>\n",
       "    </tr>\n",
       "    <tr>\n",
       "      <th>2</th>\n",
       "      <td>6027633760</td>\n",
       "      <td>0.0</td>\n",
       "      <td>0.0</td>\n",
       "      <td>False</td>\n",
       "      <td>0</td>\n",
       "      <td>5</td>\n",
       "      <td>True</td>\n",
       "    </tr>\n",
       "    <tr>\n",
       "      <th>3</th>\n",
       "      <td>5448831829</td>\n",
       "      <td>0.0</td>\n",
       "      <td>0.0</td>\n",
       "      <td>False</td>\n",
       "      <td>0</td>\n",
       "      <td>0</td>\n",
       "      <td>True</td>\n",
       "    </tr>\n",
       "    <tr>\n",
       "      <th>4</th>\n",
       "      <td>4236547993</td>\n",
       "      <td>0.0</td>\n",
       "      <td>0.0</td>\n",
       "      <td>False</td>\n",
       "      <td>0</td>\n",
       "      <td>6</td>\n",
       "      <td>False</td>\n",
       "    </tr>\n",
       "  </tbody>\n",
       "</table>\n",
       "</div>"
      ],
      "text/plain": [
       "      user_id  revenue  delivery_revenue  has_delivery  error_count  \\\n",
       "0  5488135039      0.0               0.0         False            0   \n",
       "1  7151893663      0.0               0.0         False            0   \n",
       "2  6027633760      0.0               0.0         False            0   \n",
       "3  5448831829      0.0               0.0         False            0   \n",
       "4  4236547993      0.0               0.0         False            0   \n",
       "\n",
       "   order_wo_delivery  is_test  \n",
       "0                  2     True  \n",
       "1                  2     True  \n",
       "2                  5     True  \n",
       "3                  0     True  \n",
       "4                  6    False  "
      ]
     },
     "execution_count": 3,
     "metadata": {},
     "output_type": "execute_result"
    }
   ],
   "source": [
    "task_5 = pd.read_csv('task_5.csv')\n",
    "task_5.head()"
   ]
  },
  {
   "cell_type": "code",
   "execution_count": 58,
   "metadata": {
    "tags": []
   },
   "outputs": [
    {
     "data": {
      "text/plain": [
       "is_test\n",
       "False    25078\n",
       "True     24922\n",
       "Name: count, dtype: int64"
      ]
     },
     "execution_count": 58,
     "metadata": {},
     "output_type": "execute_result"
    }
   ],
   "source": [
    "task_5['is_test'].value_counts()"
   ]
  },
  {
   "cell_type": "markdown",
   "metadata": {
    "tags": []
   },
   "source": [
    "Группы немного отличаются между собой, но нам нужно проверить, допустимо ли такое отличие"
   ]
  },
  {
   "cell_type": "code",
   "execution_count": 62,
   "metadata": {
    "tags": []
   },
   "outputs": [
    {
     "data": {
      "text/plain": [
       "Power_divergenceResult(statistic=0.48672, pvalue=0.48539409701354075)"
      ]
     },
     "execution_count": 62,
     "metadata": {},
     "output_type": "execute_result"
    }
   ],
   "source": [
    "f_obs = task_5['is_test'].value_counts()\n",
    "f_exp = [len(task_5)/ task_5['is_test'].nunique()] * task_5['is_test'].nunique()\n",
    "chisquare(f_obs = f_obs, f_exp = f_exp)"
   ]
  },
  {
   "cell_type": "markdown",
   "metadata": {},
   "source": [
    "### Вывод\n",
    "Тест Хи-квадрат Пирсона показывает, что значимых отличий между количеством наблюдений в группах нет (так как P-value значительно больше 0,05."
   ]
  },
  {
   "cell_type": "markdown",
   "metadata": {
    "id": "--CwPtA1jmoT"
   },
   "source": [
    "# Анализ сбалансированности групп на пред-периоде. 1 балл"
   ]
  },
  {
   "cell_type": "markdown",
   "metadata": {
    "id": "SNIN8rmflflu"
   },
   "source": [
    "## Формулировка"
   ]
  },
  {
   "cell_type": "markdown",
   "metadata": {
    "id": "LKtDsgaPe2lN"
   },
   "source": [
    "Перед тем как проанализировать данные во время теста, давайте убедимся, что наши данные не отличались до теста (из-за фактора случайности или ошибки на каком-либо этапе). Для этого объедените данные из task_5 с task_1 по user_id и проверьте гипотезы о равенстве средних в тесте и контроле по данным из task_1."
   ]
  },
  {
   "cell_type": "code",
   "execution_count": 3,
   "metadata": {
    "id": "-aci3RxezC6D",
    "tags": []
   },
   "outputs": [],
   "source": [
    "task_1 = pd.read_csv('task_2.csv')\n",
    "task_5 = pd.read_csv('task_5.csv')"
   ]
  },
  {
   "cell_type": "code",
   "execution_count": 8,
   "metadata": {
    "id": "KcZ158tTzM5-",
    "tags": []
   },
   "outputs": [
    {
     "name": "stdout",
     "output_type": "stream",
     "text": [
      "<class 'pandas.core.frame.DataFrame'>\n",
      "RangeIndex: 50000 entries, 0 to 49999\n",
      "Data columns (total 12 columns):\n",
      " #   Column               Non-Null Count  Dtype  \n",
      "---  ------               --------------  -----  \n",
      " 0   user_id              50000 non-null  int64  \n",
      " 1   revenue_x            50000 non-null  float64\n",
      " 2   delivery_revenue_x   50000 non-null  float64\n",
      " 3   has_delivery_x       50000 non-null  bool   \n",
      " 4   error_count_x        50000 non-null  int64  \n",
      " 5   order_wo_delivery_x  50000 non-null  int64  \n",
      " 6   revenue_y            50000 non-null  float64\n",
      " 7   delivery_revenue_y   50000 non-null  float64\n",
      " 8   has_delivery_y       50000 non-null  bool   \n",
      " 9   error_count_y        50000 non-null  int64  \n",
      " 10  order_wo_delivery_y  50000 non-null  int64  \n",
      " 11  is_test              50000 non-null  bool   \n",
      "dtypes: bool(3), float64(4), int64(5)\n",
      "memory usage: 3.6 MB\n",
      "None\n"
     ]
    },
    {
     "data": {
      "text/html": [
       "<div>\n",
       "<style scoped>\n",
       "    .dataframe tbody tr th:only-of-type {\n",
       "        vertical-align: middle;\n",
       "    }\n",
       "\n",
       "    .dataframe tbody tr th {\n",
       "        vertical-align: top;\n",
       "    }\n",
       "\n",
       "    .dataframe thead th {\n",
       "        text-align: right;\n",
       "    }\n",
       "</style>\n",
       "<table border=\"1\" class=\"dataframe\">\n",
       "  <thead>\n",
       "    <tr style=\"text-align: right;\">\n",
       "      <th></th>\n",
       "      <th>user_id</th>\n",
       "      <th>revenue_x</th>\n",
       "      <th>delivery_revenue_x</th>\n",
       "      <th>has_delivery_x</th>\n",
       "      <th>error_count_x</th>\n",
       "      <th>order_wo_delivery_x</th>\n",
       "      <th>revenue_y</th>\n",
       "      <th>delivery_revenue_y</th>\n",
       "      <th>has_delivery_y</th>\n",
       "      <th>error_count_y</th>\n",
       "      <th>order_wo_delivery_y</th>\n",
       "      <th>is_test</th>\n",
       "    </tr>\n",
       "  </thead>\n",
       "  <tbody>\n",
       "    <tr>\n",
       "      <th>0</th>\n",
       "      <td>5488135039</td>\n",
       "      <td>0.0</td>\n",
       "      <td>0.0</td>\n",
       "      <td>False</td>\n",
       "      <td>0</td>\n",
       "      <td>1</td>\n",
       "      <td>0.0</td>\n",
       "      <td>0.0</td>\n",
       "      <td>False</td>\n",
       "      <td>0</td>\n",
       "      <td>2</td>\n",
       "      <td>True</td>\n",
       "    </tr>\n",
       "    <tr>\n",
       "      <th>1</th>\n",
       "      <td>7151893663</td>\n",
       "      <td>0.0</td>\n",
       "      <td>0.0</td>\n",
       "      <td>False</td>\n",
       "      <td>0</td>\n",
       "      <td>1</td>\n",
       "      <td>0.0</td>\n",
       "      <td>0.0</td>\n",
       "      <td>False</td>\n",
       "      <td>0</td>\n",
       "      <td>2</td>\n",
       "      <td>True</td>\n",
       "    </tr>\n",
       "    <tr>\n",
       "      <th>2</th>\n",
       "      <td>6027633760</td>\n",
       "      <td>0.0</td>\n",
       "      <td>0.0</td>\n",
       "      <td>False</td>\n",
       "      <td>0</td>\n",
       "      <td>6</td>\n",
       "      <td>0.0</td>\n",
       "      <td>0.0</td>\n",
       "      <td>False</td>\n",
       "      <td>0</td>\n",
       "      <td>5</td>\n",
       "      <td>True</td>\n",
       "    </tr>\n",
       "    <tr>\n",
       "      <th>3</th>\n",
       "      <td>5448831829</td>\n",
       "      <td>0.0</td>\n",
       "      <td>0.0</td>\n",
       "      <td>False</td>\n",
       "      <td>0</td>\n",
       "      <td>3</td>\n",
       "      <td>0.0</td>\n",
       "      <td>0.0</td>\n",
       "      <td>False</td>\n",
       "      <td>0</td>\n",
       "      <td>0</td>\n",
       "      <td>True</td>\n",
       "    </tr>\n",
       "    <tr>\n",
       "      <th>4</th>\n",
       "      <td>4236547993</td>\n",
       "      <td>0.0</td>\n",
       "      <td>0.0</td>\n",
       "      <td>False</td>\n",
       "      <td>0</td>\n",
       "      <td>9</td>\n",
       "      <td>0.0</td>\n",
       "      <td>0.0</td>\n",
       "      <td>False</td>\n",
       "      <td>0</td>\n",
       "      <td>6</td>\n",
       "      <td>False</td>\n",
       "    </tr>\n",
       "  </tbody>\n",
       "</table>\n",
       "</div>"
      ],
      "text/plain": [
       "      user_id  revenue_x  delivery_revenue_x  has_delivery_x  error_count_x  \\\n",
       "0  5488135039        0.0                 0.0           False              0   \n",
       "1  7151893663        0.0                 0.0           False              0   \n",
       "2  6027633760        0.0                 0.0           False              0   \n",
       "3  5448831829        0.0                 0.0           False              0   \n",
       "4  4236547993        0.0                 0.0           False              0   \n",
       "\n",
       "   order_wo_delivery_x  revenue_y  delivery_revenue_y  has_delivery_y  \\\n",
       "0                    1        0.0                 0.0           False   \n",
       "1                    1        0.0                 0.0           False   \n",
       "2                    6        0.0                 0.0           False   \n",
       "3                    3        0.0                 0.0           False   \n",
       "4                    9        0.0                 0.0           False   \n",
       "\n",
       "   error_count_y  order_wo_delivery_y  is_test  \n",
       "0              0                    2     True  \n",
       "1              0                    2     True  \n",
       "2              0                    5     True  \n",
       "3              0                    0     True  \n",
       "4              0                    6    False  "
      ]
     },
     "execution_count": 8,
     "metadata": {},
     "output_type": "execute_result"
    }
   ],
   "source": [
    "data = task_1.merge(task_5, how='outer', on='user_id')\n",
    "print(data.info())\n",
    "data.head(5)"
   ]
  },
  {
   "cell_type": "code",
   "execution_count": 17,
   "metadata": {
    "tags": []
   },
   "outputs": [],
   "source": [
    "experiment_result = namedtuple(\n",
    "    'experiment_result',\n",
    "     ['pvalue', 'effect', 'left_bound', 'right_bound'],\n",
    ")\n",
    "\n",
    "def absolute_ttest(control, test, ci_level=0.05):\n",
    "    mean_control = np.mean(control)\n",
    "    mean_test = np.mean(test)\n",
    "    var_mean_control  = np.var(control) / len(control)\n",
    "    var_mean_test  = np.var(test) / len(test)\n",
    "    difference_mean = mean_test - mean_control\n",
    "    difference_mean_var = var_mean_control + var_mean_test\n",
    "    difference_distribution = norm(loc=difference_mean, scale=np.sqrt(difference_mean_var))\n",
    "    left_bound, right_bound = difference_distribution.ppf([ci_level / 2, 1 - ci_level / 2])\n",
    "    pvalue = 2 * min(difference_distribution.cdf(0), difference_distribution.sf(0))\n",
    "    effect = difference_mean\n",
    "    return experiment_result(pvalue, effect, left_bound, right_bound)"
   ]
  },
  {
   "cell_type": "code",
   "execution_count": 19,
   "metadata": {
    "tags": []
   },
   "outputs": [
    {
     "name": "stdout",
     "output_type": "stream",
     "text": [
      "Метрика revenue_x: p value = 0.9149260787279342, эффект = 0.39770953113368535, левая граница интервала = -6.899088023287586, правая граница интервала = 7.694507085554955\n",
      "Метрика delivery_revenue_x: p value = 0.7298834425285646, эффект = -0.7407424777221756, левая граница интервала = -4.945521573499151, правая граница интервала = 3.4640366180547986\n",
      "Метрика has_delivery_x: p value = 0.3176425760169146, эффект = -0.001402391251437398, левая граница интервала = -0.004152914287453853, правая граница интервала = 0.001348131784579056\n",
      "Метрика error_count_x: p value = 0.5409617799346518, эффект = 0.007807912805346415, левая граница интервала = -0.017223569290611588, правая граница интервала = 0.032839394901304414\n",
      "Метрика order_wo_delivery_x: p value = 0.8043198740457429, эффект = -0.006168690448500325, левая граница интервала = -0.05496751396877946, правая граница интервала = 0.042630133071778806\n"
     ]
    }
   ],
   "source": [
    "metrics = ['revenue_x', 'delivery_revenue_x', 'has_delivery_x', 'error_count_x', 'order_wo_delivery_x']\n",
    "\n",
    "for metric in metrics:\n",
    "    pvalue, effect, left_bound, right_bound = absolute_ttest(data[data['is_test']==False][metric], data[data['is_test']==True][metric])\n",
    "    print(f'''Метрика {metric}: p value = {pvalue}, эффект = {effect}, левая граница интервала = {left_bound}, правая граница интервала = {right_bound}''')"
   ]
  },
  {
   "cell_type": "markdown",
   "metadata": {},
   "source": [
    "### Вывод\n",
    "В нашем примере метрики в тесте и контроле равны: P-value достаточно выходит, и во все доверительные интервалы входит 0."
   ]
  },
  {
   "cell_type": "markdown",
   "metadata": {
    "id": "-vbHsrkzMBqW"
   },
   "source": [
    "# Относительный T-test: реализация и валидация. 3 балла"
   ]
  },
  {
   "cell_type": "markdown",
   "metadata": {
    "id": "-gYQKpuOlpMo"
   },
   "source": [
    "## Формулирвока"
   ]
  },
  {
   "cell_type": "markdown",
   "metadata": {
    "id": "zQR8HKiKewm9"
   },
   "source": [
    "Ваши коллеги хотели бы делать вывод в процентах, а не абсолютах. Реализуйте относительную постановку t-test'a. Проверьте, что функция выдает ожидаемые результаты с помощью двух примеров, написанных ниже. Провалидируйте реализацию с помощью синтетических АА и АБ тестах на метрике 'revenue' из task_1: случайно разбивайте 50/50 и сравнивайте с помощью относительной постановки без изменений в случае АА и домножая на 1.2 (имитируя прирост в 20%) псевдотестовую группу в случае синтетичских АБ. Проделайте данную процедуру 10 тысяч раз и сделайте вывод о корректности критерия."
   ]
  },
  {
   "cell_type": "code",
   "execution_count": 5,
   "metadata": {
    "id": "xDA7LczpQtHl",
    "tags": []
   },
   "outputs": [],
   "source": [
    "experiment_result = namedtuple(\n",
    "    'experiment_result',\n",
    "     ['pvalue', 'left_bound', 'effect', 'right_bound'],\n",
    ")"
   ]
  },
  {
   "cell_type": "markdown",
   "metadata": {},
   "source": [
    "![image.png](data:image/png;base64,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)"
   ]
  },
  {
   "cell_type": "code",
   "execution_count": 8,
   "metadata": {
    "id": "TvCwuzIhQtE6",
    "tags": []
   },
   "outputs": [],
   "source": [
    "def relative_ttest(\n",
    "    control: np.ndarray | pd.Series,\n",
    "    test: np.ndarray | pd.Series,\n",
    "    p_value_only: bool = False,\n",
    "    ci_level: float = 0.05\n",
    "    ) -> float | experiment_result:\n",
    "    \"\"\"\n",
    "    Функция рассчитывает относительную постановку t-теста\n",
    "\n",
    "    Входные параметры:\n",
    "    control: np.ndarray или pd.Series - массив метрики по контрольной группе.\n",
    "    test: np.ndarray или pd.Series - массив метрики по экспериментальной группе.\n",
    "    p_value_only: bool - выводить ли только p value. По умолчанию - false:\n",
    "      возвращается именовонный кортеж с размером эффекта и границами ДИ.\n",
    "    ci_level: float - уровень значимости для расчета доверительного интервала\n",
    "      для размера эффекта. 0.05 по умолчанию (будет считаться 95% ДИ).\n",
    "\n",
    "    Возвращает в зависимости от флага p_value_only:\n",
    "      float p value или namedtuple(p_value, left_bound, effect, right_bound)\n",
    "    \"\"\"\n",
    "    mean_control = np.mean(control)\n",
    "    var_mean_control  = np.var(control) / len(control)\n",
    "    var_mean_test  = np.var(test) / len(test)\n",
    "    difference_mean = np.mean(test) - mean_control\n",
    "    \n",
    "    rel_var_1_term = (var_mean_control + var_mean_test) / (mean_control ** 2)\n",
    "    rel_var_2_term = var_mean_control * ((difference_mean ** 2) / (mean_control ** 4))\n",
    "    rel_var_3_term = 2 * (difference_mean / (mean_control ** 3)) * var_mean_control\n",
    "    relative_var =  rel_var_1_term + rel_var_2_term + rel_var_3_term\n",
    "    \n",
    "    effect = difference_mean / mean_control\n",
    "    relative_distribution = norm(loc=effect, scale=np.sqrt(relative_var))\n",
    "    left_bound, right_bound = relative_distribution.ppf([ci_level / 2, 1 - ci_level / 2])\n",
    "    pvalue = 2 * min(relative_distribution.cdf(0), relative_distribution.sf(0))\n",
    "    \n",
    "    if p_value_only == True:\n",
    "        return pvalue\n",
    "    else:\n",
    "        return experiment_result(pvalue, effect, left_bound, right_bound)"
   ]
  },
  {
   "cell_type": "markdown",
   "metadata": {
    "id": "ycQihGpmlLDC"
   },
   "source": [
    "Проверяем, что функция работает"
   ]
  },
  {
   "cell_type": "code",
   "execution_count": 22,
   "metadata": {
    "id": "6QgSZcX5k-2B",
    "tags": []
   },
   "outputs": [],
   "source": [
    "task_5_test = task_5[task_5['is_test']]\n",
    "task_5_control = task_5[~ task_5['is_test']]"
   ]
  },
  {
   "cell_type": "code",
   "execution_count": 67,
   "metadata": {
    "id": "6wL2t7CflDHz",
    "tags": []
   },
   "outputs": [
    {
     "data": {
      "text/plain": [
       "0.07014509102230279"
      ]
     },
     "execution_count": 67,
     "metadata": {},
     "output_type": "execute_result"
    }
   ],
   "source": [
    "relative_ttest(\n",
    "    control=task_5_control['revenue'],\n",
    "    test=task_5_test['revenue'],\n",
    "    p_value_only=True,\n",
    "    )"
   ]
  },
  {
   "cell_type": "code",
   "execution_count": 68,
   "metadata": {
    "id": "NPY1-PnGk-zB",
    "tags": []
   },
   "outputs": [
    {
     "data": {
      "text/plain": [
       "experiment_result(pvalue=0.3222148538341155, left_bound=0.07262775217741808, effect=-0.11635451183822489, right_bound=0.261610016193061)"
      ]
     },
     "execution_count": 68,
     "metadata": {},
     "output_type": "execute_result"
    }
   ],
   "source": [
    "relative_ttest(\n",
    "    control=task_5_control['delivery_revenue'],\n",
    "    test=task_5_test['delivery_revenue'],\n",
    "    p_value_only=False,\n",
    "    ci_level=0.01\n",
    "    )"
   ]
  },
  {
   "cell_type": "markdown",
   "metadata": {
    "id": "7CmjsztclLmg"
   },
   "source": [
    "## Валидируем на синтетических АА и АБ тестах"
   ]
  },
  {
   "cell_type": "code",
   "execution_count": 37,
   "metadata": {
    "tags": []
   },
   "outputs": [
    {
     "name": "stderr",
     "output_type": "stream",
     "text": [
      "100%|██████████| 10000/10000 [00:58<00:00, 171.63it/s]"
     ]
    },
    {
     "name": "stdout",
     "output_type": "stream",
     "text": [
      "\n",
      "Реальный уровень значимости в АА-тестах: 0.0498; доверительный интервал для ошибки 2 рода: [0.0457, 0.0542]\n"
     ]
    },
    {
     "name": "stderr",
     "output_type": "stream",
     "text": [
      "\n"
     ]
    }
   ],
   "source": [
    "p_values = []\n",
    "POTENTIAL_EFFECT = 0.2\n",
    "ALPHA = 0.05\n",
    "effect_not_in_ci = 0\n",
    "N_ITER = 10_000\n",
    "\n",
    "fte = 0\n",
    "\n",
    "for i in tqdm(range(N_ITER)):\n",
    "    control, test = train_test_split(task_1['revenue'], test_size=0.5)\n",
    "    _, _, left_bound, right_bound = relative_ttest(control, test)\n",
    "    if left_bound > 0 or right_bound < 0:\n",
    "        fte += 1   \n",
    "    \n",
    "left_real_level_fte, right_real_level_fte = proportion_confint(count=fte, nobs=N_ITER, alpha=ALPHA, method='wilson')\n",
    "\n",
    "print(f\"\\nРеальный уровень значимости в АА-тестах: {round(fte / N_ITER, 4)};\"\n",
    "      f\" доверительный интервал для ошибки 2 рода: [{round(left_real_level_fte, 4)}, {round(right_real_level_fte, 4)}]\")"
   ]
  },
  {
   "cell_type": "code",
   "execution_count": 43,
   "metadata": {
    "tags": []
   },
   "outputs": [
    {
     "name": "stderr",
     "output_type": "stream",
     "text": [
      "100%|██████████| 10000/10000 [01:00<00:00, 165.35it/s]"
     ]
    },
    {
     "name": "stdout",
     "output_type": "stream",
     "text": [
      "\n",
      "Реальный уровень значимости в АБ-тестах: 0.0511; доверительный интервал для ошибки 1 рода: [0.047, 0.0556].\n"
     ]
    },
    {
     "name": "stderr",
     "output_type": "stream",
     "text": [
      "\n"
     ]
    }
   ],
   "source": [
    "ste = 0\n",
    "\n",
    "for i in tqdm(range(N_ITER)):\n",
    "    control, test = train_test_split(task_1['revenue'], test_size=0.5)\n",
    "    test *= 1 + POTENTIAL_EFFECT\n",
    "    _, _, left_bound, right_bound = relative_ttest(control, test)\n",
    "    if left_bound > POTENTIAL_EFFECT or right_bound < POTENTIAL_EFFECT:\n",
    "        ste += 1    \n",
    "    \n",
    "left_real_level_ste, right_real_level_ste = proportion_confint(count=ste, nobs=N_ITER, alpha=ALPHA, method='wilson')\n",
    "\n",
    "print(f\"\\nРеальный уровень значимости в АБ-тестах: {round(ste / N_ITER, 4)};\" \n",
    "      f\" доверительный интервал для ошибки 1 рода: [{round(left_real_level_ste, 4)}, {round(right_real_level_ste, 4)}].\")"
   ]
  },
  {
   "cell_type": "markdown",
   "metadata": {
    "tags": []
   },
   "source": [
    "### Вывод\n",
    "Функция работает корректно, заданные уровни ошибок не выходят из доверительного интервала."
   ]
  },
  {
   "cell_type": "markdown",
   "metadata": {
    "id": "4RZM-d4jUrYU"
   },
   "source": [
    "# Анализ результатов и выводы. 4 балла."
   ]
  },
  {
   "cell_type": "markdown",
   "metadata": {
    "id": "wSZzFkBzmI4Q"
   },
   "source": [
    "## Формулировка"
   ]
  },
  {
   "cell_type": "markdown",
   "metadata": {
    "id": "IYUedtI0erG-"
   },
   "source": [
    "Наконец, пришла пора проанализировать результаты из task_5 за экспериментальный период и сделать выводы!"
   ]
  },
  {
   "cell_type": "markdown",
   "metadata": {
    "tags": []
   },
   "source": [
    "По резульатам командного обсуждения было принято назначить целевой метрикой выручку. Прочие метрики, за которыми ваша команда планирует наблюдать: выручка с доставки, пользователи с доставкой, количество ошибок на экранах доставочный айтемов, количество заказов без доставки."
   ]
  },
  {
   "cell_type": "code",
   "execution_count": 10,
   "metadata": {
    "tags": []
   },
   "outputs": [
    {
     "data": {
      "text/html": [
       "<style type=\"text/css\">\n",
       "#T_febbc_row0_col0 {\n",
       "  background-color: #ebf3fb;\n",
       "  color: #000000;\n",
       "}\n",
       "#T_febbc_row0_col1 {\n",
       "  background-color: #4997c9;\n",
       "  color: #f1f1f1;\n",
       "}\n",
       "#T_febbc_row0_col2 {\n",
       "  background-color: #083776;\n",
       "  color: #f1f1f1;\n",
       "}\n",
       "#T_febbc_row0_col3 {\n",
       "  background-color: #9ac8e0;\n",
       "  color: #000000;\n",
       "}\n",
       "#T_febbc_row1_col0 {\n",
       "  background-color: #7fb9da;\n",
       "  color: #000000;\n",
       "}\n",
       "#T_febbc_row1_col1 {\n",
       "  background-color: #539ecd;\n",
       "  color: #f1f1f1;\n",
       "}\n",
       "#T_febbc_row1_col2 {\n",
       "  background-color: #4594c7;\n",
       "  color: #f1f1f1;\n",
       "}\n",
       "#T_febbc_row1_col3 {\n",
       "  background-color: #56a0ce;\n",
       "  color: #f1f1f1;\n",
       "}\n",
       "#T_febbc_row2_col0, #T_febbc_row3_col2, #T_febbc_row4_col1, #T_febbc_row4_col3 {\n",
       "  background-color: #f7fbff;\n",
       "  color: #000000;\n",
       "}\n",
       "#T_febbc_row2_col1, #T_febbc_row2_col2, #T_febbc_row3_col3, #T_febbc_row4_col0 {\n",
       "  background-color: #08306b;\n",
       "  color: #f1f1f1;\n",
       "}\n",
       "#T_febbc_row2_col3 {\n",
       "  background-color: #4191c6;\n",
       "  color: #f1f1f1;\n",
       "}\n",
       "#T_febbc_row3_col0 {\n",
       "  background-color: #2474b7;\n",
       "  color: #f1f1f1;\n",
       "}\n",
       "#T_febbc_row3_col1 {\n",
       "  background-color: #2e7ebc;\n",
       "  color: #f1f1f1;\n",
       "}\n",
       "#T_febbc_row4_col2 {\n",
       "  background-color: #083c7d;\n",
       "  color: #f1f1f1;\n",
       "}\n",
       "</style>\n",
       "<table id=\"T_febbc\">\n",
       "  <thead>\n",
       "    <tr>\n",
       "      <th class=\"blank level0\" >&nbsp;</th>\n",
       "      <th id=\"T_febbc_level0_col0\" class=\"col_heading level0 col0\" >p_value</th>\n",
       "      <th id=\"T_febbc_level0_col1\" class=\"col_heading level0 col1\" >99% low, %</th>\n",
       "      <th id=\"T_febbc_level0_col2\" class=\"col_heading level0 col2\" >effect, %</th>\n",
       "      <th id=\"T_febbc_level0_col3\" class=\"col_heading level0 col3\" >99% high, %</th>\n",
       "    </tr>\n",
       "  </thead>\n",
       "  <tbody>\n",
       "    <tr>\n",
       "      <th id=\"T_febbc_level0_row0\" class=\"row_heading level0 row0\" >revenue</th>\n",
       "      <td id=\"T_febbc_row0_col0\" class=\"data row0 col0\" >0.070</td>\n",
       "      <td id=\"T_febbc_row0_col1\" class=\"data row0 col1\" >7.739</td>\n",
       "      <td id=\"T_febbc_row0_col2\" class=\"data row0 col2\" >-3.268</td>\n",
       "      <td id=\"T_febbc_row0_col3\" class=\"data row0 col3\" >18.746</td>\n",
       "    </tr>\n",
       "    <tr>\n",
       "      <th id=\"T_febbc_level0_row1\" class=\"row_heading level0 row1\" >delivery_revenue</th>\n",
       "      <td id=\"T_febbc_row1_col0\" class=\"data row1 col0\" >0.322</td>\n",
       "      <td id=\"T_febbc_row1_col1\" class=\"data row1 col1\" >7.263</td>\n",
       "      <td id=\"T_febbc_row1_col2\" class=\"data row1 col2\" >-11.635</td>\n",
       "      <td id=\"T_febbc_row1_col3\" class=\"data row1 col3\" >26.161</td>\n",
       "    </tr>\n",
       "    <tr>\n",
       "      <th id=\"T_febbc_level0_row2\" class=\"row_heading level0 row2\" >has_delivery</th>\n",
       "      <td id=\"T_febbc_row2_col0\" class=\"data row2 col0\" >0.031</td>\n",
       "      <td id=\"T_febbc_row2_col1\" class=\"data row2 col1\" >13.125</td>\n",
       "      <td id=\"T_febbc_row2_col2\" class=\"data row2 col2\" >-2.542</td>\n",
       "      <td id=\"T_febbc_row2_col3\" class=\"data row2 col3\" >28.792</td>\n",
       "    </tr>\n",
       "    <tr>\n",
       "      <th id=\"T_febbc_level0_row3\" class=\"row_heading level0 row3\" >error_count</th>\n",
       "      <td id=\"T_febbc_row3_col0\" class=\"data row3 col0\" >0.508</td>\n",
       "      <td id=\"T_febbc_row3_col1\" class=\"data row3 col1\" >9.065</td>\n",
       "      <td id=\"T_febbc_row3_col2\" class=\"data row3 col2\" >-26.231</td>\n",
       "      <td id=\"T_febbc_row3_col3\" class=\"data row3 col3\" >44.362</td>\n",
       "    </tr>\n",
       "    <tr>\n",
       "      <th id=\"T_febbc_level0_row4\" class=\"row_heading level0 row4\" >order_wo_delivery</th>\n",
       "      <td id=\"T_febbc_row4_col0\" class=\"data row4 col0\" >0.678</td>\n",
       "      <td id=\"T_febbc_row4_col1\" class=\"data row4 col1\" >-0.518</td>\n",
       "      <td id=\"T_febbc_row4_col2\" class=\"data row4 col2\" >-3.736</td>\n",
       "      <td id=\"T_febbc_row4_col3\" class=\"data row4 col3\" >2.700</td>\n",
       "    </tr>\n",
       "  </tbody>\n",
       "</table>\n"
      ],
      "text/plain": [
       "<pandas.io.formats.style.Styler at 0x1e769a9a1d0>"
      ]
     },
     "execution_count": 10,
     "metadata": {},
     "output_type": "execute_result"
    }
   ],
   "source": [
    "metrics = ['revenue', 'delivery_revenue', 'has_delivery', 'error_count', 'order_wo_delivery']\n",
    "test_result = {'p_value': [],         \n",
    "    '99% low, %': [],\n",
    "    'effect, %': [],\n",
    "    '99% high, %': []}\n",
    "for metric in metrics:\n",
    "    test = task_5[task_5['is_test']][metric]\n",
    "    control = task_5[~ task_5['is_test']][metric]\n",
    "    result = relative_ttest(control, test, ci_level = 0.01)\n",
    "    \n",
    "    test_result['p_value'].append(result.pvalue)\n",
    "    test_result['99% low, %'].append(result.left_bound*100)\n",
    "    test_result['effect, %'].append(result.effect*100)\n",
    "    test_result['99% high, %'].append(result.right_bound*100)\n",
    "\n",
    "test_result = pd.DataFrame(test_result, index = metrics)   \n",
    "test_result.style.format('{:.3f}').background_gradient(cmap = 'Blues', axis=0)"
   ]
  },
  {
   "cell_type": "markdown",
   "metadata": {},
   "source": [
    "### Вывод\n",
    "Эффекты не попадают в доверительные интервалы при данном дизайне эксперимента. Был выбран неправильный дизайн эксперимента."
   ]
  }
 ],
 "metadata": {
  "colab": {
   "authorship_tag": "ABX9TyMfT+otz5ab/VL9knoele02",
   "collapsed_sections": [
    "AX84Ul_7aUic",
    "kDPS_Kl9BsSx",
    "68F0fs_gBwQZ",
    "bf4TbX3Oiouh",
    "wrG0UPKIlOVn",
    "--CwPtA1jmoT",
    "SNIN8rmflflu",
    "-vbHsrkzMBqW",
    "-gYQKpuOlpMo",
    "4RZM-d4jUrYU",
    "wSZzFkBzmI4Q"
   ],
   "provenance": [
    {
     "file_id": "17G_EhucTTRlbS6nVRCXcG-lNka0ym0xg",
     "timestamp": 1711899630873
    },
    {
     "file_id": "1LTRyB7H2G874igc6blaHQncyWXOVOXv9",
     "timestamp": 1711302424516
    },
    {
     "file_id": "1woICFa6ZqyyRRJqYoCFg7a_4u2f3vBZX",
     "timestamp": 1711295161010
    }
   ]
  },
  "kernelspec": {
   "display_name": "Python 3 (ipykernel)",
   "language": "python",
   "name": "python3"
  },
  "language_info": {
   "codemirror_mode": {
    "name": "ipython",
    "version": 3
   },
   "file_extension": ".py",
   "mimetype": "text/x-python",
   "name": "python",
   "nbconvert_exporter": "python",
   "pygments_lexer": "ipython3",
   "version": "3.11.5"
  }
 },
 "nbformat": 4,
 "nbformat_minor": 4
}
