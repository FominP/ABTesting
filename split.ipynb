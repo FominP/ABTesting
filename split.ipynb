{
 "cells": [
  {
   "cell_type": "markdown",
   "metadata": {
    "id": "AX84Ul_7aUic"
   },
   "source": [
    "# Описание задачи"
   ]
  },
  {
   "cell_type": "markdown",
   "metadata": {
    "id": "y-BqHVC7C66e"
   },
   "source": [
    "## Информация из предыдущих этапов"
   ]
  },
  {
   "cell_type": "markdown",
   "metadata": {
    "id": "agXJ0MY-hMPZ"
   },
   "source": [
    "**Постановка кейса.**\n",
    "\n",
    "В рамках практических заданий мы будем работать аналитиком на платформе по подаче объявлений. По результатам исследований мы выяснили, что недавно введенной функцией доставки пользуются редко. В рамках идей по исправлению ситуации была предложена инициатива выдать скидку в 20% на данную услугу, зачеркнув старую цену и написав рядом новую на карточках объявлений, в которых доступна доставка. Нам поставлена задача оценить данную инициативу."
   ]
  },
  {
   "cell_type": "markdown",
   "metadata": {
    "id": "DPu_X8zdhOjp"
   },
   "source": [
    "**Метрики.**\n",
    "\n",
    "По результатам командного обсуждения было принято назначить целевой метрикой выручку. Прочие метрики, за которыми ваша команда планирует наблюдать: выручка с доставки, пользователи с доставкой, количество ошибок на экранах доставочный айтемов, количество заказов без доставки."
   ]
  },
  {
   "cell_type": "markdown",
   "metadata": {
    "id": "itHvxbL4UGGE"
   },
   "source": [
    "**Критерий.**\n",
    "\n",
    "По результатам предыдущего исследования наш выбор пал на тест Стьюдента. Предполагаем, что будем использовать его."
   ]
  },
  {
   "cell_type": "markdown",
   "metadata": {
    "id": "mxRmNpNTDFJa"
   },
   "source": [
    "**MDE, N, alpha, beta**"
   ]
  },
  {
   "cell_type": "markdown",
   "metadata": {
    "id": "rRb4A--qDNUK"
   },
   "source": [
    "По результатам обсуждения с аналитиками и продуктами было принято решение остановиться на ошибках 1 и 2 рода в 1% при MDE в 1.4% для основной метрики. N = 5 mln в каждой группе, длительность эксперимента - 21 день."
   ]
  },
  {
   "cell_type": "markdown",
   "metadata": {
    "id": "5s2muRqVC-fj"
   },
   "source": [
    "## Текущее задание"
   ]
  },
  {
   "cell_type": "markdown",
   "metadata": {
    "id": "0o14Ix9rDnX6"
   },
   "source": [
    "Наконец, пришла пора переходить к запуску теста! Но для этого нам нужна хорошо работающая система сплитования тест-контроль. Вам предстоит реализовать ее, провалидировать, модифицировать и применить. Тестировать все это дело будем при помощи все того же датасета task_1. Приступим!"
   ]
  },
  {
   "cell_type": "markdown",
   "metadata": {
    "id": "bf4TbX3Oiouh"
   },
   "source": [
    "# Реализация сплиттера"
   ]
  },
  {
   "cell_type": "markdown",
   "metadata": {
    "id": "70e0NnMvitNp"
   },
   "source": [
    "Напишите функцию, которая принимает на вход массив из id (pandas.Series или numpy.ndarray), соль эксперимента и количество бинов (бакетов), на которое нужно разбить массив. Возвращать функция должна новый массив, равный исходному по размеру, с номером бакета, который соответствует этому айди. Проверьте ваш код на примере ниже. Получилось ли распределение юзеров по бакетам равномерным? Для ответа на этот вопрос постройте график распределения, а также проведите статистический тест: Хи-квадрат или Колмагорова-Смирнова - выберите один и аргументируйте свой выбор."
   ]
  },
  {
   "cell_type": "code",
   "execution_count": 7,
   "metadata": {
    "id": "Dx9D95PZG3zq",
    "tags": []
   },
   "outputs": [],
   "source": [
    "import pandas as pd\n",
    "import numpy as np\n",
    "import seaborn as sns\n",
    "import hashlib"
   ]
  },
  {
   "cell_type": "code",
   "execution_count": 20,
   "metadata": {
    "id": "tNDd3CbFGmiK",
    "tags": []
   },
   "outputs": [],
   "source": [
    "def get_bucket(ids, salt, n_bin):\n",
    "    \"\"\"\n",
    "    Распределяет пользователей по бакетам на основе их ID, соли и количества бакетов.\n",
    "    Параметры:\n",
    "    ids: Массив ID пользователей (pandas.Series или numpy.ndarray).\n",
    "    salt: Соль эксперимента (строка).\n",
    "    n_bin: Количество бакетов (целое число).\n",
    "    \n",
    "    Возвращает: Массив с номерами бакетов для каждого пользователя.\n",
    "    \"\"\"\n",
    "    # Применяем хэширование к ID пользователей с солью\n",
    "    def hash_user_id(user_id):\n",
    "        hashed = hashlib.sha256((str(user_id) + salt).encode()).hexdigest()\n",
    "        return int(hashed, 16) % n_bin\n",
    "    \n",
    "    # Применяем функцию хэширования к каждому ID\n",
    "    buckets = np.array([hash_user_id(user_id) for user_id in ids])\n",
    "    return buckets"
   ]
  },
  {
   "cell_type": "code",
   "execution_count": 3,
   "metadata": {
    "id": "369JFL25G9_C",
    "tags": []
   },
   "outputs": [],
   "source": [
    "data = pd.read_csv('task_2.csv')"
   ]
  },
  {
   "cell_type": "markdown",
   "metadata": {
    "id": "nRn5vbSbUap2"
   },
   "source": [
    "Пример"
   ]
  },
  {
   "cell_type": "code",
   "execution_count": 21,
   "metadata": {
    "id": "RNXIL1zmHEjx",
    "tags": []
   },
   "outputs": [],
   "source": [
    "salt = 'delivery_sale_20'\n",
    "n_bin = 100\n",
    "buckets = get_bucket(ids=data['user_id'], salt=salt, n_bin=n_bin)"
   ]
  },
  {
   "cell_type": "code",
   "execution_count": 22,
   "metadata": {
    "tags": []
   },
   "outputs": [
    {
     "data": {
      "image/png": "[encoded data removed]",
      "text/plain": [
       "<Figure size 640x480 with 1 Axes>"
      ]
     },
     "metadata": {},
     "output_type": "display_data"
    }
   ],
   "source": [
    "import matplotlib.pyplot as plt\n",
    "\n",
    "bucket_counts = pd.Series(buckets).value_counts().sort_index()\n",
    "plt.bar(bucket_counts.index, bucket_counts.values)\n",
    "plt.xlabel(\"Номер бакета\")\n",
    "plt.ylabel(\"Количество пользователей\")\n",
    "plt.title(\"Распределение пользователей по бакетам\")\n",
    "plt.show()"
   ]
  },
  {
   "cell_type": "code",
   "execution_count": 23,
   "metadata": {
    "tags": []
   },
   "outputs": [
    {
     "name": "stdout",
     "output_type": "stream",
     "text": [
      "Хи-квадрат статистика: 84.128\n",
      "p-value: 0.8570126084826104\n"
     ]
    }
   ],
   "source": [
    "from scipy.stats import chisquare\n",
    "\n",
    "expected_count = len(data['user_id']) / n_bin\n",
    "\n",
    "# Проверяем Хи-квадратом, так как он первоначально использовался для сравнения ожидаемых частот с теоретическими\n",
    "chi2_stat, p_value = chisquare(bucket_counts, f_exp=expected_count)\n",
    "print(f\"Хи-квадрат статистика: {chi2_stat}\")\n",
    "print(f\"p-value: {p_value}\")"
   ]
  },
  {
   "cell_type": "markdown",
   "metadata": {},
   "source": [
    "На выходе получилось равномерное распределение бакетов, Хи-квадрат подтвердил, что частоты в бакетах соответствуют теоретическим"
   ]
  },
  {
   "cell_type": "markdown",
   "metadata": {
    "id": "--CwPtA1jmoT"
   },
   "source": [
    "# Валидация сплиттера"
   ]
  },
  {
   "cell_type": "markdown",
   "metadata": {
    "id": "jtEElVKC3YYH"
   },
   "source": [
    "Однако делать вывод о корректности работы на одном примере нельзя. Валидация - наше все. Давайте проведем 10 тысяч симуляций, в каждой из которых будем брать новую соль, разбивать на бины, первую половину бинов отправлять тест, вторую - в контроль. Каждый раз будем с помощью теста хи-квадрат ИЛИ Колмагорова-Смирнова (то, что вы выбрали в предыдущем пункте) проверять равномерность распредления по бинам, а с помощью теста Стьюдента равенство средних в тесте и контроле по целевой метрике теста ['revenue']. В итоге должно получиться 2 массива по 10 тысяч p value. Проанализируйте их и сделайте выводы"
   ]
  },
  {
   "cell_type": "code",
   "execution_count": 25,
   "metadata": {
    "id": "dzxNBdn4crMS",
    "tags": []
   },
   "outputs": [
    {
     "name": "stderr",
     "output_type": "stream",
     "text": [
      "100%|██████████| 10000/10000 [16:50<00:00,  9.89it/s]\n"
     ]
    }
   ],
   "source": [
    "from tqdm import tqdm\n",
    "from scipy.stats import chisquare, ttest_ind\n",
    "\n",
    "bins_variation = [20, 50, 100, 200] # возможные варианты бинов\n",
    "chisquare_pvalue = [] # заготовка, куда будем складывать pvalue chisquare тестов\n",
    "ttest_pvalue = [] # заготовка, куда будем складывать pvalue t тестов\n",
    "n_iter = 10_000\n",
    "for i in tqdm(range(n_iter)):\n",
    "    current_salt = 'experiment_' + str(i)\n",
    "    n_bin = np.random.choice(a=bins_variation, size=1)[0]\n",
    "    data['bucket'] = get_bucket(ids=data['user_id'], salt=current_salt, n_bin=n_bin)\n",
    "    data['is_test'] = data['bucket'] < n_bin / 2 # определяем группу по бину\n",
    "    \n",
    "    # Проверим равномерностm распределения по бакетам\n",
    "    bucket_counts = data['bucket'].value_counts().sort_index()\n",
    "    expected_count = len(data) / n_bin\n",
    "    chi2_stat, p_value_chi = chisquare(bucket_counts, f_exp=expected_count)\n",
    "    chisquare_pvalue.append(p_value_chi)\n",
    "    \n",
    "    # Проверим равенства средних\n",
    "    test_revenue = data[data['is_test']]['revenue']\n",
    "    control_revenue = data[~data['is_test']]['revenue']\n",
    "    t_stat, p_value_ttest = ttest_ind(test_revenue, control_revenue)\n",
    "    ttest_pvalue.append(p_value_ttest)\n"
   ]
  },
  {
   "cell_type": "code",
   "execution_count": 26,
   "metadata": {
    "tags": []
   },
   "outputs": [
    {
     "data": {
      "image/png": "[encoded data removed]",
      "text/plain": [
       "<Figure size 640x480 with 1 Axes>"
      ]
     },
     "metadata": {},
     "output_type": "display_data"
    }
   ],
   "source": [
    "plt.hist(chisquare_pvalue, bins=50, edgecolor='black')\n",
    "plt.title(\"Распределение p-value для хи-квадрат теста\")\n",
    "plt.xlabel(\"p-value\")\n",
    "plt.ylabel(\"Частота\")\n",
    "plt.show()"
   ]
  },
  {
   "cell_type": "code",
   "execution_count": 27,
   "metadata": {
    "tags": []
   },
   "outputs": [
    {
     "data": {
      "image/png": "[encoded data removed]",
      "text/plain": [
       "<Figure size 640x480 with 1 Axes>"
      ]
     },
     "metadata": {},
     "output_type": "display_data"
    }
   ],
   "source": [
    "plt.hist(ttest_pvalue, bins=50, edgecolor='black')\n",
    "plt.title(\"Распределение p-value для t-теста\")\n",
    "plt.xlabel(\"p-value\")\n",
    "plt.ylabel(\"Частота\")\n",
    "plt.show()"
   ]
  },
  {
   "cell_type": "code",
   "execution_count": 28,
   "metadata": {
    "tags": []
   },
   "outputs": [
    {
     "name": "stdout",
     "output_type": "stream",
     "text": [
      "Доля p-value < 0.05 для хи-квадрат теста: 0.049\n",
      "Доля p-value < 0.05 для t-теста: 0.053\n"
     ]
    }
   ],
   "source": [
    "print(f\"Доля p-value < 0.05 для хи-квадрат теста: {np.mean(np.array(chisquare_pvalue) < 0.05):.3f}\")\n",
    "print(f\"Доля p-value < 0.05 для t-теста: {np.mean(np.array(ttest_pvalue) < 0.05):.3f}\")"
   ]
  },
  {
   "cell_type": "markdown",
   "metadata": {},
   "source": [
    "В целом сплитование работает хорошо"
   ]
  },
  {
   "cell_type": "markdown",
   "metadata": {
    "id": "oRmMlYmgR3g8"
   },
   "source": [
    "По результатам предыдущих заданий вам удалось получить отличную функцию для разбиения, однако продуктовый менеджер, углубившись в анализ, просит ее доработать. Он согласен, что с точки зрения статистики, - все окей, но получается, что в 5% случаев в эксперименте контрольная и тестовая группа будут заранее статистически значимо отличаться. С точки зрения же бизнеса это означает, что каждый 20-ый эксперимент имеет предпосылки к недостоверности.\n",
    "\n",
    "Вам поручено модифицировать вашу функцию так, чтобы она проверяла наличие статистической значимой разницы между средними метрик после разбиения на тест и контроль. Подробнее о принимаемых алгоритме функции, входных и выходных параметрах можно узнать из сигнатуры функции и docstring'и. Помните, что чем эффективнее вы напишите ваш код, тем быстрее вы сможете провести дальнейшие исследования с помощью методов Монте-Карло!\n",
    "\n",
    "После реализации функции проведите 10_000 Монте-Карло симуляций с различными бинами и солями, ответив на следующие вопросы:\n",
    "- Как выглядит распределение номера успешной попытки (i) в случае, если передаем только 1 метрику - revenue? А как в случае всех 5 метрик?\n",
    "- Какому семейству принадлежат эти распределения? С какими параметрами?\n",
    "- Согласуетя ли наблюдаемая картина с ожидаемой, есть ли у нас основания подозревать некорректную работу функции?\n",
    "\n",
    "\n",
    "\n",
    "\n"
   ]
  },
  {
   "cell_type": "code",
   "execution_count": 29,
   "metadata": {
    "id": "atnGDCzU0OQx",
    "tags": []
   },
   "outputs": [],
   "source": [
    "from tqdm import tqdm\n",
    "from collections import namedtuple\n",
    "split_result = namedtuple('split_result', ['bucket', 'is_test', 'i'])"
   ]
  },
  {
   "cell_type": "code",
   "execution_count": 40,
   "metadata": {
    "id": "AC5opmWtwWpF",
    "tags": []
   },
   "outputs": [],
   "source": [
    "def get_balanced_bucket(\n",
    "    data: pd.DataFrame,\n",
    "    id_column_name: str,\n",
    "    metrics_column_names: str | list,\n",
    "    initial_salt: str = '',\n",
    "    n_bin: int = 100,\n",
    "    test_bins: int = 50,\n",
    "    alpha: float = 0.05,\n",
    "  ):\n",
    "    \"\"\"\n",
    "    Функция работает по следующем алгоритму:\n",
    "    1. разбивает data на n_bin с помощью функции get_bucket с солью initial_salt + '1';\n",
    "    2. данные с бакетом до test_bins отправляются в тест, начиная с test_bins - в контроль;\n",
    "    3. проверяется наличие стат. значимой разницы в метрике или метриках из metrics_column_names;\n",
    "    4. если стат. значимая разница на уровне alpha наблюдается хотя бы у 1 метрики,\n",
    "    то возвращаемся к пунтку 1 с солью initial_salt + '2';\n",
    "    5. как только получили разбиение без стат. значимой разницы завершаем работу, возвращая:\n",
    "    массив с номером бакетов,\n",
    "    массив is_test (1 для тестовой и 0 для контрольной),\n",
    "    i - итерация, с которой удалось выполнить разбиение без стат. значимой разницы в метриках.\n",
    "    С помощью i в дальнейшем можно будем восстановить соль разбиения. Например, если начальная\n",
    "    соль была 'our_exp' и разбиение выполнилось со второго раза, то i = 2, а соль = 'our_exp2'\n",
    "\n",
    "    Входные данные:\n",
    "    data: pandas.DataFrame - таблица с данными.\n",
    "    id_column_name: строка - название колонки с id, по которым будем брать хэш.\n",
    "    metrics_column_names: строка или список строк - по какой (каким) метрикам\n",
    "      будем проверять отсутствие стат. значимости.\n",
    "    initial_salt: строка - начальная соль. К ней будет прибавляться str(i),\n",
    "      где i - номер итерации (попытки сбалансированного разбиения)\n",
    "    n_bin: целое число - общее количество бинов, на которое будем делить данные.\n",
    "    test_bins: целое число - количество бинов тестовой группы.\n",
    "    alpha: float - уровень значимости для проверки сбалансированности разбиения.\n",
    "\n",
    "    Выходные данные - именновый кортеж split_result со следующими атрибутами:\n",
    "    bucket: pandas.Series с бакетами (бинами),\n",
    "    is_test: pandas.Series с определением тестовой группы (1 или 0),\n",
    "    i: номер попытки, с которой удалось провести сбалансированное разбиение (int).\n",
    "    \"\"\"\n",
    "    i = 1  # Номер итерации\n",
    "    while True:\n",
    "        # Преобразуем metrics_column_names в список, если это строка\n",
    "        if isinstance(metrics_column_names, str):\n",
    "            metrics_column_names = [metrics_column_names]\n",
    "        \n",
    "        # Разбиваем данные на бакеты\n",
    "        data['bucket'] = get_bucket(ids=data[id_column_name], salt=initial_salt + str(i), n_bin=n_bin)\n",
    "        data['is_test'] = data['bucket'] < test_bins  # True для теста, False для контроля\n",
    "\n",
    "        # Проверяем равенство средних для всех метрик\n",
    "        is_balanced = True\n",
    "        for metric in metrics_column_names:\n",
    "            test_metric = data[data['is_test']][metric]\n",
    "            control_metric = data[~data['is_test']][metric]\n",
    "            _, p_value = ttest_ind(test_metric, control_metric)\n",
    "            if p_value < alpha:\n",
    "                is_balanced = False\n",
    "                break  # Прерываем проверку, если найдена значимая разница\n",
    "\n",
    "        # Если разбиение сбалансировано, завершаем цикл\n",
    "        if is_balanced:\n",
    "            return split_result(data['bucket'], data['is_test'], i)\n",
    "\n",
    "        # Иначе увеличиваем счетчик итераций и пробуем снова\n",
    "        i += 1"
   ]
  },
  {
   "cell_type": "code",
   "execution_count": 45,
   "metadata": {
    "id": "-sDayctITWOc",
    "tags": []
   },
   "outputs": [
    {
     "name": "stderr",
     "output_type": "stream",
     "text": [
      "100%|██████████| 10000/10000 [38:41<00:00,  4.31it/s]\n"
     ]
    }
   ],
   "source": [
    "# это готовый и корректный код для исследования\n",
    "salts_1 = []\n",
    "salts_5 = []\n",
    "bins_variation = [20, 50, 100, 200]\n",
    "alpha = 0.05\n",
    "all_metrics = [\n",
    "    'revenue',\n",
    "    'delivery_revenue',\n",
    "    'has_delivery',\n",
    "    'error_count',\n",
    "    'order_wo_delivery'\n",
    "    ]\n",
    "for i in tqdm(range(10_000)):\n",
    "    n_bin = np.random.choice(a=bins_variation, size=1)[0]\n",
    "    test_bins = n_bin // 2\n",
    "    salt = str(i) + 'our_experiment'\n",
    "    _, _, i_1 = get_balanced_bucket(\n",
    "      data=data,\n",
    "      id_column_name='user_id',\n",
    "      metrics_column_names='revenue',\n",
    "      initial_salt=salt,\n",
    "      n_bin=n_bin,\n",
    "      test_bins=test_bins,\n",
    "      alpha=alpha,\n",
    "    )\n",
    "    _, _, i_5 = get_balanced_bucket(\n",
    "      data=data,\n",
    "      id_column_name='user_id',\n",
    "      metrics_column_names=all_metrics,\n",
    "      initial_salt=salt,\n",
    "      n_bin=n_bin,\n",
    "      test_bins=test_bins,\n",
    "      alpha=alpha,\n",
    "    )\n",
    "    salts_1.append(i_1)\n",
    "    salts_5.append(i_5)"
   ]
  },
  {
   "cell_type": "code",
   "execution_count": 46,
   "metadata": {
    "id": "aR4KgNo8iHtf",
    "tags": []
   },
   "outputs": [],
   "source": [
    "salts_1, salts_5 = pd.Series(salts_1), pd.Series(salts_5)"
   ]
  },
  {
   "cell_type": "code",
   "execution_count": 47,
   "metadata": {
    "id": "ourD-2heiHql",
    "tags": []
   },
   "outputs": [
    {
     "data": {
      "text/plain": [
       "<Axes: ylabel='Count'>"
      ]
     },
     "execution_count": 47,
     "metadata": {},
     "output_type": "execute_result"
    },
    {
     "data": {
      "image/png": "[encoded data removed]",
      "text/plain": [
       "<Figure size 640x480 with 1 Axes>"
      ]
     },
     "metadata": {},
     "output_type": "display_data"
    }
   ],
   "source": [
    "sns.histplot(salts_1)"
   ]
  },
  {
   "cell_type": "code",
   "execution_count": 48,
   "metadata": {
    "id": "yfZST5dLiHoV",
    "tags": []
   },
   "outputs": [
    {
     "data": {
      "text/plain": [
       "<Axes: ylabel='Count'>"
      ]
     },
     "execution_count": 48,
     "metadata": {},
     "output_type": "execute_result"
    },
    {
     "data": {
      "image/png": "[encoded data removed]",
      "text/plain": [
       "<Figure size 640x480 with 1 Axes>"
      ]
     },
     "metadata": {},
     "output_type": "display_data"
    }
   ],
   "source": [
    "sns.histplot(salts_5)"
   ]
  },
  {
   "cell_type": "markdown",
   "metadata": {
    "tags": []
   },
   "source": [
    "Распределение количества попыток выглядит похожим на экспоненциальное распределение. С увеличением числа метрик увеличивается количество итераций, где потребовалось 2 и 3 попытки, и появляются итерации с бОльшим числом попыток вплоть до 7."
   ]
  }
 ],
 "metadata": {
  "colab": {
   "authorship_tag": "ABX9TyNsD5QfLmd65g+r0yJQURY1",
   "collapsed_sections": [
    "AX84Ul_7aUic",
    "y-BqHVC7C66e",
    "5s2muRqVC-fj"
   ],
   "provenance": [
    {
     "file_id": "1UckMGaexWRrBGuTu8P3qUTC7WH8cG5E-",
     "timestamp": 1711638340671
    },
    {
     "file_id": "1jvfiQvJ42UXL2LwADVBt4dyUPZ1ylcD3",
     "timestamp": 1711455391799
    },
    {
     "file_id": "1LTRyB7H2G874igc6blaHQncyWXOVOXv9",
     "timestamp": 1711302424516
    },
    {
     "file_id": "1woICFa6ZqyyRRJqYoCFg7a_4u2f3vBZX",
     "timestamp": 1711295161010
    }
   ]
  },
  "kernelspec": {
   "display_name": "Python 3 (ipykernel)",
   "language": "python",
   "name": "python3"
  },
  "language_info": {
   "codemirror_mode": {
    "name": "ipython",
    "version": 3
   },
   "file_extension": ".py",
   "mimetype": "text/x-python",
   "name": "python",
   "nbconvert_exporter": "python",
   "pygments_lexer": "ipython3",
   "version": "3.11.5"
  }
 },
 "nbformat": 4,
 "nbformat_minor": 4
}
