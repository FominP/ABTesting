{
 "cells": [
  {
   "cell_type": "markdown",
   "metadata": {
    "id": "AX84Ul_7aUic"
   },
   "source": [
    "# Описание задачи"
   ]
  },
  {
   "cell_type": "markdown",
   "metadata": {
    "id": "gB34rDPvBOWp"
   },
   "source": [
    "## Информация из предыдущих этапов"
   ]
  },
  {
   "cell_type": "markdown",
   "metadata": {
    "id": "agXJ0MY-hMPZ"
   },
   "source": [
    "**Постановка кейса.**\n",
    "\n",
    "В рамках практических заданий мы будем работать аналитиком на платформе по подаче объявлений. По результатам исследований мы выяснили, что недавно введенной функцией доставки пользуются редко. В рамках идей по исправлению ситуации была предложена инициатива выдать скидку в 20% на данную услугу, зачеркнув старую цену и написав рядом новую на карточках объявлений, в которых доступна доставка. Нам поставлена задача оценить данную инициативу."
   ]
  },
  {
   "cell_type": "markdown",
   "metadata": {
    "id": "DPu_X8zdhOjp"
   },
   "source": [
    "**Метрики.**\n",
    "\n",
    "По резульатам командного обсуждения было принято назначить целевой метрикой выручку. Прочие метрики, за которыми ваша команда планирует наблюдать: выручка с доставки, пользователи с доставкой, количество ошибок на экранах доставочный айтемов, количество заказов без доставки."
   ]
  },
  {
   "cell_type": "markdown",
   "metadata": {
    "id": "kYtBnEucBeCa"
   },
   "source": [
    "## Текущее задание"
   ]
  },
  {
   "cell_type": "markdown",
   "metadata": {
    "id": "itHvxbL4UGGE"
   },
   "source": [
    "**Критерий.**\n",
    "\n",
    "По результатам предыдущего исследования наш выбор пал на тест Стьюдента. Предполагаем, что будем использовать его. В этом задании вам необходимо задизайнить эксперимент, провести исследования MDE, определиться с параметрами теста."
   ]
  },
  {
   "cell_type": "markdown",
   "metadata": {
    "id": "bf4TbX3Oiouh"
   },
   "source": [
    "# Вопросы дизайна эксперимента"
   ]
  },
  {
   "cell_type": "markdown",
   "metadata": {
    "id": "70e0NnMvitNp"
   },
   "source": [
    "Дайте ответы на следующие вопросы, относительного нашего эксперимента. Аргументируйте свои ответы.\n",
    "\n",
    "\n",
    "\n",
    "\n",
    "1.   Что должно быть меньше в нашем эксперименте: ошибка 1 или 2 рода?\n",
    "2.   В каком соотношении вы бы предпочли разбиение на тест и контроль?\n",
    "3.   Как долго, на ваш взгляд, должен длиться данный тест?\n",
    "4.   Насколько актуальна для данного теста проблема ослепления?\n",
    "5.   Насколько актуален для данного теста эффект новизны/ привыкания?\n",
    "\n",
    "\n"
   ]
  },
  {
   "cell_type": "markdown",
   "metadata": {},
   "source": [
    "1) В нашем тесте нет дополнительных трат на добаботку/поддержание фичи, но при этом есть риск потратить деньги на скидку и не получить эффекта. Поэтому нам важнее сократить ошибку 1 рода.\n",
    "2) 50/50. Можно взять пропорцию меньше 50/50, но явных причин, указывающих на то, что она должна быть иной, нет.\n",
    "3) Нужно проводить тест около 2-3 недель, чтобы пользователи не стали воспринимать цену со скидкой как базовую\n",
    "4) Актуальна, так как продавцы могут захотеть, чтобы все их товары попали в акцию, и могут пытаться скрывать или перевыкладывать свой товар, чтобы он попал в тестовую группу или пытаться как-то иначе сжульничать.\n",
    "5) Эффекты  новизны и привыкания актуальны, так как мы боимся получить ситуацию, когда люди привыкнут к новой цене доставки. Кроме того, возможно первоначально они могут увидеть снижение цены и пойти покупать отложенные предварительно заказы, акция может послужить триггером."
   ]
  },
  {
   "cell_type": "markdown",
   "metadata": {
    "id": "--CwPtA1jmoT"
   },
   "source": [
    "# Модификация функции расчета MDE"
   ]
  },
  {
   "cell_type": "markdown",
   "metadata": {
    "id": "jtEElVKC3YYH"
   },
   "source": [
    "Функция tt_ind_solve_power вашим коллегам кажется не очень удобной: нужно помнить про эффект Коэна, как переводить в него и из него и так далее. Несколько новичков в команде уже допустило ошибку при работе с данной функцией. Ваша задача - расширить функционал данной функции. Напишите свою версию, которая будет принимать на вход все аргументы из tt_ind_solve_power, но с двумя отлияичми: вместо d эффекта Коэна она будет принимать (или возвращать) размер эффекта в долях, а также дополнительно будет принимать набор данных: pandas серию или numpy массив. В остальном ваша функция должна работать как и предшественница: принимать на вход 3 аргумента + данные, и выдавать четвертый непереданный. Напишите docstring к функции, чтобы в дальнейшем ваши коллеги могли ей пользоваться."
   ]
  },
  {
   "cell_type": "code",
   "execution_count": null,
   "metadata": {
    "id": "CyxyRFlLaeqa"
   },
   "outputs": [],
   "source": [
    "from statsmodels.stats.power import tt_ind_solve_power"
   ]
  },
  {
   "cell_type": "code",
   "execution_count": 10,
   "metadata": {
    "id": "naCVPWJrhdFE",
    "tags": []
   },
   "outputs": [],
   "source": [
    "def my_solve_power(\n",
    "    data,\n",
    "    effect_size=None,\n",
    "    nobs1=None,\n",
    "    alpha=None,\n",
    "    power=None,\n",
    "    ratio=1.0,\n",
    "    alternative='two-sided'\n",
    "    )-> float:\n",
    "    \"\"\"\n",
    "    Функция принимает на вход параметры data, effect_size, nobs1, alpha, power, ratio, alternative.\n",
    "    Требует установленных numpy и statsmodels.\n",
    "    Параметры:\n",
    "    data : pandas.Series или numpy.array, optional\n",
    "        Данные для расчета стандартного отклонения. Если передан, используется для перевода\n",
    "        размера эффекта в долях в эффект Коэна.\n",
    "    effect_size : float, optional\n",
    "        Размер эффекта в долях (например, 0.1 для 10% эффекта). Если не передан, будет рассчитан.\n",
    "    nobs1 : int, optional\n",
    "        Количество наблюдений в первой группе. Если не передано, будет рассчитано.\n",
    "    alpha : float, optional\n",
    "        Уровень значимости (по умолчанию 0.05). Если не передан, будет рассчитан.\n",
    "    power : float, optional\n",
    "        Мощность теста (по умолчанию 0.8). Если не передана, будет рассчитана.\n",
    "    ratio : float, optional\n",
    "        Соотношение размеров групп (nobs2 / nobs1). По умолчанию 1.0.\n",
    "    alternative : str, optional\n",
    "        Тип альтернативной гипотезы: 'two-sided' (двусторонняя) или 'one-sided' (односторонняя).\n",
    "        По умолчанию 'two-sided'.\n",
    "\n",
    "    Возвращает Рассчитанный параметр (effect_size, nobs1, alpha или power), который не был передан.\n",
    "    \"\"\"\n",
    "\n",
    "    import numpy as np\n",
    "    from statsmodels.stats.power import tt_ind_solve_power # Решил импортировать функцию внутри, чтобы не надо было писать импорт перед вызовом\n",
    "    \n",
    "    # Проверка входных данных\n",
    "    if sum(x is None for x in [effect_size, nobs1, alpha, power]) != 1:\n",
    "        raise ValueError(\"Должен быть передан ровно один из параметров: effect_size, nobs1, alpha, power.\")\n",
    "\n",
    "    # Если передан data, рассчитываем стандартное отклонение\n",
    "    if data is not None:\n",
    "        if isinstance(data, (pd.Series, np.ndarray)):\n",
    "            std = np.std(data, ddof=1)  # Используем несмещенное стандартное отклонение\n",
    "        else:\n",
    "            raise TypeError(\"data должен быть pandas.Series или numpy.array.\")\n",
    "    else:\n",
    "        raise ValueError(\"Должен быть передан параметр data\")\n",
    "\n",
    "    # Переводим effect_size в Эффект Коэна\n",
    "    if effect_size is not None:\n",
    "        effect_size_cohen = effect_size / std\n",
    "    else:\n",
    "        effect_size_cohen = None\n",
    "\n",
    "    # пользуемся tt_ind_solve_power\n",
    "    result = tt_ind_solve_power(\n",
    "        effect_size=effect_size_cohen,\n",
    "        nobs1=nobs1,\n",
    "        alpha=alpha,\n",
    "        power=power,\n",
    "        ratio=ratio,\n",
    "        alternative=alternative\n",
    "    )\n",
    "\n",
    "    # Если рассчитывали effect_size, переводим его обратно в доли\n",
    "    if effect_size is None:\n",
    "        result = result * std\n",
    "\n",
    "    return result"
   ]
  },
  {
   "cell_type": "markdown",
   "metadata": {
    "id": "TuLMh-1CcGdi"
   },
   "source": [
    "Прогоните ваш код на следующих примерах (по ним будет оцениваться корректность работы):"
   ]
  },
  {
   "cell_type": "code",
   "execution_count": 5,
   "metadata": {
    "id": "UQJPKbUHcuYS",
    "tags": []
   },
   "outputs": [],
   "source": [
    "import pandas as pd\n",
    "data = pd.read_csv('task_2.csv')"
   ]
  },
  {
   "cell_type": "code",
   "execution_count": 11,
   "metadata": {
    "id": "jh9b74cAcrPK",
    "tags": []
   },
   "outputs": [
    {
     "data": {
      "text/plain": [
       "2.886173101769587"
      ]
     },
     "execution_count": 11,
     "metadata": {},
     "output_type": "execute_result"
    }
   ],
   "source": [
    "my_solve_power(\n",
    "    data=data['revenue'],\n",
    "    effect_size=None,\n",
    "    nobs1=1_000_000,\n",
    "    alpha=0.01,\n",
    "    power=0.99,\n",
    "    ratio=1.0,\n",
    "    alternative='two-sided'\n",
    "    )"
   ]
  },
  {
   "cell_type": "code",
   "execution_count": 12,
   "metadata": {
    "id": "dzxNBdn4crMS",
    "tags": []
   },
   "outputs": [
    {
     "data": {
      "text/plain": [
       "13953.87059828183"
      ]
     },
     "execution_count": 12,
     "metadata": {},
     "output_type": "execute_result"
    }
   ],
   "source": [
    "my_solve_power(\n",
    "    data=data['error_count'],\n",
    "    effect_size=0.05,\n",
    "    nobs1=None,\n",
    "    alpha=0.05,\n",
    "    power=0.9,\n",
    "    ratio=1.0,\n",
    "    alternative='larger'\n",
    "    )"
   ]
  },
  {
   "cell_type": "markdown",
   "metadata": {
    "id": "-vbHsrkzMBqW"
   },
   "source": [
    "# Trade-off: alpha, beta, MDE"
   ]
  },
  {
   "cell_type": "markdown",
   "metadata": {
    "id": "oRmMlYmgR3g8"
   },
   "source": [
    "Наша пользовательская база - 10 миллионов пользователей. Положим, мы хотим исследовать двусторонние гипотезы с разделением 50 на 50, и нам доступна вся база. Создайте таблицу (pandas.DataFrame) зависимости MDE в % от ошибок 1 и 2 рода только для целевой метрики - revenue. То есть в индексах - ошибки 2 рода, в названии столбцов - ошибки 1 рода, а в ячейках - MDE в %. Прокомментируйте получившиеся результаты. Какое соотношение вам кажется оптимальным в вашем тесте?\n",
    "\n"
   ]
  },
  {
   "cell_type": "code",
   "execution_count": 14,
   "metadata": {
    "id": "5VLNJeyLfD6q",
    "tags": []
   },
   "outputs": [],
   "source": [
    "alphas = [0.2, 0.1, 0.05, 0.01, 0.001]\n",
    "betas = [0.2, 0.1, 0.05, 0.01, 0.001]"
   ]
  },
  {
   "cell_type": "markdown",
   "metadata": {},
   "source": [
    "Воспользуемся формулой MDE:"
   ]
  },
  {
   "cell_type": "markdown",
   "metadata": {},
   "source": [
    "$$ MDE = \\left( Z_{1-\\alpha/2} + Z_{1-\\beta} \\right) \\times \\sqrt{\\frac{2 \\times \\sigma^2}{n}} $$"
   ]
  },
  {
   "cell_type": "code",
   "execution_count": 30,
   "metadata": {
    "id": "vr39Rn19fD4F",
    "tags": []
   },
   "outputs": [
    {
     "data": {
      "text/html": [
       "<div>\n",
       "<style scoped>\n",
       "    .dataframe tbody tr th:only-of-type {\n",
       "        vertical-align: middle;\n",
       "    }\n",
       "\n",
       "    .dataframe tbody tr th {\n",
       "        vertical-align: top;\n",
       "    }\n",
       "\n",
       "    .dataframe thead th {\n",
       "        text-align: right;\n",
       "    }\n",
       "</style>\n",
       "<table border=\"1\" class=\"dataframe\">\n",
       "  <thead>\n",
       "    <tr style=\"text-align: right;\">\n",
       "      <th></th>\n",
       "      <th>0.200</th>\n",
       "      <th>0.100</th>\n",
       "      <th>0.050</th>\n",
       "      <th>0.010</th>\n",
       "      <th>0.001</th>\n",
       "    </tr>\n",
       "  </thead>\n",
       "  <tbody>\n",
       "    <tr>\n",
       "      <th>0.200</th>\n",
       "      <td>1.42</td>\n",
       "      <td>1.66</td>\n",
       "      <td>1.87</td>\n",
       "      <td>2.29</td>\n",
       "      <td>2.76</td>\n",
       "    </tr>\n",
       "    <tr>\n",
       "      <th>0.100</th>\n",
       "      <td>1.71</td>\n",
       "      <td>1.96</td>\n",
       "      <td>2.17</td>\n",
       "      <td>2.58</td>\n",
       "      <td>3.06</td>\n",
       "    </tr>\n",
       "    <tr>\n",
       "      <th>0.050</th>\n",
       "      <td>1.96</td>\n",
       "      <td>2.2</td>\n",
       "      <td>2.41</td>\n",
       "      <td>2.82</td>\n",
       "      <td>3.3</td>\n",
       "    </tr>\n",
       "    <tr>\n",
       "      <th>0.010</th>\n",
       "      <td>2.41</td>\n",
       "      <td>2.66</td>\n",
       "      <td>2.87</td>\n",
       "      <td>3.28</td>\n",
       "      <td>3.76</td>\n",
       "    </tr>\n",
       "    <tr>\n",
       "      <th>0.001</th>\n",
       "      <td>2.92</td>\n",
       "      <td>3.17</td>\n",
       "      <td>3.38</td>\n",
       "      <td>3.79</td>\n",
       "      <td>4.27</td>\n",
       "    </tr>\n",
       "  </tbody>\n",
       "</table>\n",
       "</div>"
      ],
      "text/plain": [
       "      0.200 0.100 0.050 0.010 0.001\n",
       "0.200  1.42  1.66  1.87  2.29  2.76\n",
       "0.100  1.71  1.96  2.17  2.58  3.06\n",
       "0.050  1.96   2.2  2.41  2.82   3.3\n",
       "0.010  2.41  2.66  2.87  3.28  3.76\n",
       "0.001  2.92  3.17  3.38  3.79  4.27"
      ]
     },
     "execution_count": 30,
     "metadata": {},
     "output_type": "execute_result"
    }
   ],
   "source": [
    "from scipy.stats import norm\n",
    "import numpy as np\n",
    "\n",
    "mde_table = pd.DataFrame(index=betas, columns=alphas)\n",
    "\n",
    "# Вычислим то, что не будет меняться в нашей формуле\n",
    "variance = data['revenue'].var()\n",
    "has_revenue_share = 1 - (data['revenue'] == 0).sum() / len(data)\n",
    "# Я ожидаю, что в генеральной совокупности доля пользователей без выручки та же\n",
    "# Хотя доставку могут начать заказывать больше пользователей, я решил рассчитать MDE на случай, если этого влияния не будет\n",
    "n = 10000000 * has_revenue_share\n",
    "value = np.sqrt(2 * variance / n)\n",
    "mean_revenue = data['revenue'].mean()\n",
    "\n",
    "for alpha in alphas:\n",
    "    for beta in betas:\n",
    "        z_alpha = norm.ppf(1 - alpha/2)\n",
    "        z_beta = norm.ppf(1 - beta)\n",
    "        mde_absolute = (z_alpha + z_beta) * value  # Абсолютное значение MDE\n",
    "        mde_relative = (mde_absolute / mean_revenue) * 100  # MDE в процентах от выручки\n",
    "        mde_table.loc[beta, alpha] = round(mde_relative, 2)\n",
    "\n",
    "mde_table # По горизонтали a, по вертикали B"
   ]
  },
  {
   "cell_type": "markdown",
   "metadata": {},
   "source": [
    "Все значения выглядят высокими, но если мы ожидаем, что снижение цены приведёт к росту выручки, то мы можем взять относительно высокий MDE (a=0.001 и B=0.01), так как мы снижаем цену на 20%, и маленькие эффекты на выручку нас вряд ли заинтересуют. MDE в 3.06% нас устроит."
   ]
  },
  {
   "cell_type": "markdown",
   "metadata": {
    "id": "4RZM-d4jUrYU"
   },
   "source": [
    "# Зависимость MDE от N\n"
   ]
  },
  {
   "cell_type": "markdown",
   "metadata": {
    "id": "KLCHT4m_U_T7"
   },
   "source": [
    "Также вашей команде стало интересно: а как меняется MDE в зависимости от количества наблюдений? Положим, мы зафиксировали уровни ошибок 1 и 2 родов на уровне 1%. Тогда выведите на одном графике зависимость MDE (в % по оси Y) от N (в обеих группах суммарно по оси X). Прокомментируйте получившиеся результаты. График какой функции напоминают такие результаты?"
   ]
  },
  {
   "cell_type": "code",
   "execution_count": 31,
   "metadata": {
    "tags": []
   },
   "outputs": [
    {
     "data": {
      "image/png": "[encoded data removed]",
      "text/plain": [
       "<Figure size 1000x600 with 1 Axes>"
      ]
     },
     "metadata": {},
     "output_type": "display_data"
    }
   ],
   "source": [
    "import matplotlib.pyplot as plt\n",
    "\n",
    "# Зафиксируем уровни ошибок\n",
    "alpha = 0.01\n",
    "beta = 0.01\n",
    "\n",
    "# Посчитаем то, что не будет меняться в зависимости от N\n",
    "z_alpha = norm.ppf(1 - alpha / 2)\n",
    "z_beta = norm.ppf(1 - beta)\n",
    "variance = data['revenue'].var()\n",
    "mean_revenue = data['revenue'].mean()\n",
    "\n",
    "# Зададим диапазон для числа наблюдений\n",
    "N_values = np.arange(1000, 100000, 1000)  # От 1000 до 100000 с шагом 1000\n",
    "\n",
    "# Вычислим MDE для каждого N\n",
    "mde_values = []\n",
    "for N in N_values:\n",
    "    value = np.sqrt(2 * variance / N)\n",
    "    mde_absolute = (z_alpha + z_beta) * value  # Абсолютное значение MDE\n",
    "    mde_relative = (mde_absolute / mean_revenue) * 100  # MDE в процентах\n",
    "    mde_values.append(mde_relative)\n",
    "\n",
    "# Построим график\n",
    "plt.figure(figsize=(10, 6))\n",
    "plt.plot(N_values, mde_values, label='MDE (%)', color='blue')\n",
    "plt.xlabel('N (суммарное количество наблюдений)')\n",
    "plt.ylabel('MDE (%)')\n",
    "plt.title('Зависимость MDE от количества наблюдений (α=1%, β=1%)')\n",
    "plt.grid(True)\n",
    "plt.legend()\n",
    "plt.show()"
   ]
  },
  {
   "cell_type": "markdown",
   "metadata": {},
   "source": [
    "MDE быстро падает при наборе первых 10000 наблюдений, а затем снижается чуть медленнее. Это похоже на экспоненциальную функцию"
   ]
  },
  {
   "cell_type": "markdown",
   "metadata": {
    "id": "EOdK32wVVWoE"
   },
   "source": [
    "# Финал дизайна"
   ]
  },
  {
   "cell_type": "markdown",
   "metadata": {
    "id": "UF3s8dvZVZXE"
   },
   "source": [
    "Пришла пора финализировать дизайн эксперимента.\n",
    "\n",
    "\n",
    "*   На каком уровне ошибок 1 и 2 рода, а также N и MDE вы рекоммендуете остановиться? Проведите дополнительные исследования при необходимости.\n",
    "*   Зафиксируйте по пунктам весь важный контекст исследования, который пойдет в карточку эксперимента до его запуска (метрики, alpha, ...).\n",
    "\n"
   ]
  },
  {
   "cell_type": "markdown",
   "metadata": {
    "tags": []
   },
   "source": [
    "### Нужно посчитать MDE для остальных метрик"
   ]
  },
  {
   "cell_type": "code",
   "execution_count": 34,
   "metadata": {
    "tags": []
   },
   "outputs": [
    {
     "data": {
      "text/plain": [
       "Index(['user_id', 'revenue', 'delivery_revenue', 'has_delivery', 'error_count',\n",
       "       'order_wo_delivery'],\n",
       "      dtype='object')"
      ]
     },
     "execution_count": 34,
     "metadata": {},
     "output_type": "execute_result"
    }
   ],
   "source": [
    "data.columns"
   ]
  },
  {
   "cell_type": "code",
   "execution_count": 41,
   "metadata": {
    "tags": []
   },
   "outputs": [
    {
     "data": {
      "text/html": [
       "<div>\n",
       "<style scoped>\n",
       "    .dataframe tbody tr th:only-of-type {\n",
       "        vertical-align: middle;\n",
       "    }\n",
       "\n",
       "    .dataframe tbody tr th {\n",
       "        vertical-align: top;\n",
       "    }\n",
       "\n",
       "    .dataframe thead th {\n",
       "        text-align: right;\n",
       "    }\n",
       "</style>\n",
       "<table border=\"1\" class=\"dataframe\">\n",
       "  <thead>\n",
       "    <tr style=\"text-align: right;\">\n",
       "      <th></th>\n",
       "      <th>mde</th>\n",
       "    </tr>\n",
       "  </thead>\n",
       "  <tbody>\n",
       "    <tr>\n",
       "      <th>delivery_revenue</th>\n",
       "      <td>1.69</td>\n",
       "    </tr>\n",
       "    <tr>\n",
       "      <th>has_delivery</th>\n",
       "      <td>1.27</td>\n",
       "    </tr>\n",
       "    <tr>\n",
       "      <th>error_count</th>\n",
       "      <td>2.81</td>\n",
       "    </tr>\n",
       "    <tr>\n",
       "      <th>order_wo_delivery</th>\n",
       "      <td>0.24</td>\n",
       "    </tr>\n",
       "  </tbody>\n",
       "</table>\n",
       "</div>"
      ],
      "text/plain": [
       "                    mde\n",
       "delivery_revenue   1.69\n",
       "has_delivery       1.27\n",
       "error_count        2.81\n",
       "order_wo_delivery  0.24"
      ]
     },
     "execution_count": 41,
     "metadata": {},
     "output_type": "execute_result"
    }
   ],
   "source": [
    "from scipy.stats import norm\n",
    "import numpy as np\n",
    "\n",
    "metrics = ['delivery_revenue', 'has_delivery', 'error_count', 'order_wo_delivery']\n",
    "mde_table = pd.DataFrame(index=metrics, columns=['mde'])\n",
    "\n",
    "# Вычислим то, что не будет меняться в нашей формуле\n",
    "n = 10000000\n",
    "alpha = 0.001\n",
    "beta = 0.1\n",
    "z_alpha = norm.ppf(1 - alpha/2)\n",
    "z_beta = norm.ppf(1 - beta)\n",
    "\n",
    "for metric in metrics:\n",
    "    mean_metric = data[metric].mean()\n",
    "    variance = data[metric].var()\n",
    "    value = np.sqrt(2 * variance / n)\n",
    "    mde_absolute = (z_alpha + z_beta) * value  # Абсолютное значение MDE\n",
    "    mde_relative = (mde_absolute / mean_metric) * 100  # MDE в процентах от выручки\n",
    "    mde_table.loc[metric, 'mde'] = round(mde_relative, 2)\n",
    "\n",
    "mde_table"
   ]
  },
  {
   "cell_type": "markdown",
   "metadata": {},
   "source": [
    "| Поле                          | Описание                                                                 |\n",
    "|-------------------------------|-------------------------------------------------------------------------|\n",
    "| Цель эксперимента | Оценить влияние цены на доставку на выручку |\n",
    "| Основная гипотеза | Если дать скидку 20% на доставку (зачеркнув старую цену и написав рядом новую на карточках объявлений), то это приведёт к росту общей выручки не менее чем на 9,78%.|\n",
    "| alpha, power, N, MDE целевой метрики | alpha = 0.001, beta = 0.1, N = 10 000 000, MDE выручки = 3.06%|\n",
    "| Список метрик с MDE | Выручка с доставки (1,69%), наличие доставки (1,27%), наличие ошибок (2,81%), доля без доставки (0,24%)|\n",
    "| Длительность эксперимента | 28 дней |\n",
    "| Дата старта эксперимента | 01.02.2025 |\n",
    "| Заказчик | команда Практикума |\n",
    "| Исполнитель | Фомин Павел Александрович |\n",
    "| Артефакты | Ссылки на документы, презентации, дашборды и т.д.|\n",
    "| Важный контекст, риски |Важно избежать эффекта новизны и покрутить тест подольше|"
   ]
  }
 ],
 "metadata": {
  "colab": {
   "authorship_tag": "ABX9TyPzBAM2Qw2JdCye9OA6vTM1",
   "collapsed_sections": [
    "AX84Ul_7aUic",
    "bf4TbX3Oiouh",
    "--CwPtA1jmoT",
    "-vbHsrkzMBqW",
    "4RZM-d4jUrYU",
    "EOdK32wVVWoE"
   ],
   "provenance": [
    {
     "file_id": "1woICFa6ZqyyRRJqYoCFg7a_4u2f3vBZX",
     "timestamp": 1711295161010
    }
   ],
   "toc_visible": true
  },
  "kernelspec": {
   "display_name": "Python 3 (ipykernel)",
   "language": "python",
   "name": "python3"
  },
  "language_info": {
   "codemirror_mode": {
    "name": "ipython",
    "version": 3
   },
   "file_extension": ".py",
   "mimetype": "text/x-python",
   "name": "python",
   "nbconvert_exporter": "python",
   "pygments_lexer": "ipython3",
   "version": "3.11.5"
  }
 },
 "nbformat": 4,
 "nbformat_minor": 4
}
