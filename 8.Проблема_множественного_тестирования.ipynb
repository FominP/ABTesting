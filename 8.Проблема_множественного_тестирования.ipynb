{
 "cells": [
  {
   "cell_type": "markdown",
   "metadata": {
    "id": "UjRdQbazhznB"
   },
   "source": [
    "**8. Проблема множественного тестирования. Задания.**\n",
    "\n",
    "Задания по видео 42 - 46.\n"
   ]
  },
  {
   "cell_type": "markdown",
   "metadata": {
    "id": "AX84Ul_7aUic"
   },
   "source": [
    "# Описание задачи"
   ]
  },
  {
   "cell_type": "markdown",
   "metadata": {
    "id": "kDPS_Kl9BsSx"
   },
   "source": [
    "## Информация из предыдущих этапов"
   ]
  },
  {
   "cell_type": "markdown",
   "metadata": {
    "id": "DPu_X8zdhOjp"
   },
   "source": [
    "**Постановка кейса.**\n",
    "\n",
    "В рамках практических заданий мы будем работать аналитиком на платформе по подаче объявлений. По результатам исследований мы выяснили, что недавно введенной функцией доставки пользуются редко. В рамках идей по исправлению ситуации была предложена инициатива выдать скидку в 20% на данную услугу, зачеркнув старую цену и написав рядом новую на карточках объявлений, в которых доступна доставка. Нам поставлена задача оценить данную инициативу.\n",
    "\n",
    "**Метрики.**\n",
    "\n",
    "По резульатам командного обсуждения было принято назначить целевой метрикой выручку. Прочие метрики, за которыми ваша команда планирует наблюдать: выручка с доставки, пользователи с доставкой, количество ошибок на экранах доставочный айтемов, количество заказов без доставки.\n",
    "\n",
    "**Критерий.**\n",
    "\n",
    "По результатам предыдущего исследования наш выбор пал на тест Стьюдента. Предполагаем, что будем использовать его.\n",
    "\n",
    "**MDE, N, alpha, beta**\n",
    "\n",
    "По результатам обсуждения с аналитиками и продуктами было принято решение остановиться на ошибках 1 и 2 рода в 1% при MDE в 1.4% для основной метрики. N = 5 mln в каждой группе, длительность эксперимента - 21 день.\n",
    "\n",
    "**Разбиение на тест-контроль**\n",
    "\n",
    "Мы реализовали функцию деления выборки на тест-контроль с помощью остатка от деления от хэша id юзера и соли эксперимента. При этом мы модифицировали функцию так, чтобы данные до начала эксперимента не отличались между собой статистически значимо ни по одной метрике.\n",
    "\n",
    "**Анализ результатов.**\n",
    "\n",
    "Ваш коллега проанализировал тест, и оказалось, что ни по 1 метрике не обнаружилось статистически значимой разницы. Хотя тестовая группа и выигрывала по целевой и прокси-метрикам, доверительный интервал перекрывал 0, p value был значительно выше 0.05.\n",
    "\n",
    "Следующим этапом было решено проанализировать наиболее чувствительный сегмент. Ваши коллеги подготовили такую выборку, на которую тестовое воздействие должно было повлиять наибольшим образом. В нее попали те пользователи, что находятся в удаленых регионах и переходили на карточки объявлений с возможностью доставки. То есть этим юзерам актуальна доставка, и они точно видели тестовое воздействие (или потенциально увидели бы его, если речь идет о контроле). Анализ показал, что результат вроде и положительный, но на грании с тем, что вполне могло получиться и случайно.\n",
    "\n",
    "Далее было решено использовать CUPED для повышения чувствительно, и этот метод показал себя отлично: теперь вы уверены в том, что тестовое воздействие оказало положительный эффект на анализируемый сегмент. Далее вы проанализировали применение стратификации и пост-стратицикации. Этот метод показал значительно более скромные результаты."
   ]
  },
  {
   "cell_type": "markdown",
   "metadata": {
    "id": "68F0fs_gBwQZ"
   },
   "source": [
    "## Текущее задание"
   ]
  },
  {
   "cell_type": "markdown",
   "metadata": {
    "id": "itHvxbL4UGGE"
   },
   "source": [
    "Ваша команда решила провести вторую итерацию теста, после того как ввела дополнительные улучшения. В частности, поменяла дизайн отоброжения скидки. Еще одной идией является анализ различных уровней скидок: 10, 20 и 30%. Вам предстоит проанализировать, какая ошибка 1-го рода будет в случае попарных сравнений всех вариантов при различных статистических поправках. Также ваша команда попросила вас проверить: какие результаты дадут эти поправки, если мы будем анализировать только 2 группы, но у нас будет 5 метрик. По результатам вашего исследования будет приниматься решение о дизайне теста. Удачи!"
   ]
  },
  {
   "cell_type": "markdown",
   "metadata": {
    "id": "IfWd8OC_RLmF"
   },
   "source": [
    "Суммарно можно получить более 10 баллов. Помимо непосредственно заданий есть скрытые баллы, которые можно получить, если писать хороший код и делать то, о чем говорилось на лекциях. При этом оценка будет рассчитываться из расчета, что 10 баллов - это 100% выполнения.\n",
    "\n",
    "Вам понадобятся данные:\n",
    "*   task_1."
   ]
  },
  {
   "cell_type": "markdown",
   "metadata": {
    "id": "bf4TbX3Oiouh"
   },
   "source": [
    "# Множественная проверка: 4 группы и 1 метрика. 5 баллов"
   ]
  },
  {
   "cell_type": "markdown",
   "metadata": {
    "id": "wrG0UPKIlOVn"
   },
   "source": [
    "## Формулировка"
   ]
  },
  {
   "cell_type": "markdown",
   "metadata": {
    "id": "7sAJaJj_e8mU"
   },
   "source": [
    "Проведите 10 тысяч симуляций, в рамках которых разбейте датасет task_1 на 4 равные части и попарно сравните группы между собой по метрике revenue. Проанализируйте 4 стратегии: отсутствие поправок на множественное тестирование, поправку Бонферрони, поправку Холма и поправку Беньямини-Хохберга. Используйте для этого абсолютную версию t-теста и alpha = 0.05.\n",
    "\n",
    "По результатам симуляций выведите таблицу, где индексы - типы поправок, а колонки - % отклоненных гипотез и % итераций с отклонением хотя бы 1 гипотезы.\n",
    "\n",
    "Ответьте на вопросы:\n",
    "* К каким последствиям приводит отсутствие применение каких либо поправок?\n",
    "* Какая поправка является наиболее консервативной?\n",
    "* От какакой поправки ожидается наибольшая мощность?"
   ]
  },
  {
   "cell_type": "code",
   "execution_count": 18,
   "metadata": {
    "id": "2Tlp7ifSe85k",
    "tags": []
   },
   "outputs": [],
   "source": [
    "import pandas as pd\n",
    "import numpy as np\n",
    "from itertools import combinations\n",
    "import seaborn as sns\n",
    "from tqdm import tqdm\n",
    "from scipy.stats import ttest_ind, norm\n",
    "from sklearn.model_selection import train_test_split\n",
    "import statsmodels.stats.api as sms\n",
    "from statsmodels.stats.proportion import proportion_confint\n",
    "from collections import namedtuple"
   ]
  },
  {
   "cell_type": "code",
   "execution_count": 3,
   "metadata": {
    "id": "qr65EToiGs_l",
    "tags": []
   },
   "outputs": [],
   "source": [
    "pre_data = pd.read_csv('task_2.csv')"
   ]
  },
  {
   "cell_type": "code",
   "execution_count": 4,
   "metadata": {
    "tags": []
   },
   "outputs": [],
   "source": [
    "def no_correction(p_values, alpha):\n",
    "    \"\"\"возвращает индексы отвергнутых гипотез\"\"\"\n",
    "    m = len(p_values)\n",
    "    rejected = []\n",
    "    for i in range(len(p_values)):\n",
    "        if p_values[i] < alpha:\n",
    "            rejected.append(i)\n",
    "    return rejected\n",
    "\n",
    "def bonferroni(p_values, alpha):\n",
    "    \"\"\"возвращает индексы отвергнутых гипотез\"\"\"\n",
    "    m = len(p_values)\n",
    "    rejected = []\n",
    "    for i in range(m):\n",
    "        if p_values[i] < alpha / m:\n",
    "            rejected.append(i)\n",
    "    return rejected\n",
    "\n",
    "def holm(p_values, alpha):\n",
    "    \"\"\"возвращает индексы отвергнутых гипотез\"\"\"\n",
    "    m = len(p_values)\n",
    "    rejected = []\n",
    "    i = 1\n",
    "    for p_idx in np.argsort(p_values):\n",
    "        if p_values[p_idx] < alpha / (m + 1 - i):\n",
    "            rejected.append(p_idx)\n",
    "            i += 1\n",
    "        else:\n",
    "            break\n",
    "    return rejected\n",
    "\n",
    "def ben_hoh(p_values, alpha):\n",
    "    \"\"\"возвращает индексы отвергнутых гипотез\"\"\"\n",
    "    m = len(p_values)\n",
    "    rejected = []\n",
    "    i = 1\n",
    "    for p_idx in np.argsort(p_values):\n",
    "        if p_values[p_idx] < alpha * i / m:\n",
    "            rejected.append(p_idx)\n",
    "            i += 1\n",
    "        else:\n",
    "            break\n",
    "    return rejected"
   ]
  },
  {
   "cell_type": "code",
   "execution_count": 5,
   "metadata": {
    "tags": []
   },
   "outputs": [
    {
     "name": "stderr",
     "output_type": "stream",
     "text": [
      "100%|██████████| 10000/10000 [00:57<00:00, 174.72it/s]\n"
     ]
    }
   ],
   "source": [
    "corrections = [\n",
    "      no_correction,\n",
    "      bonferroni,\n",
    "      holm,\n",
    "      ben_hoh,\n",
    "  ]\n",
    "alpha = 0.05\n",
    "aa_research = {correction.__name__: [] for correction in corrections}\n",
    "for _ in tqdm(range(10_000)):\n",
    "    control_test_1, test_2_test_3 = train_test_split(pre_data['revenue'], test_size=0.5)\n",
    "    control, test_1 = train_test_split(control_test_1, test_size=0.5)\n",
    "    test_2, test_3 = train_test_split(test_2_test_3, test_size=0.5)\n",
    "    p_values = []\n",
    "    for pair in combinations([test_3, test_2, test_1, control], 2):\n",
    "        p_v = ttest_ind(pair[0], pair[1]).pvalue\n",
    "        p_values.append(p_v)\n",
    "    for correction in corrections:\n",
    "        rejected = correction(\n",
    "            p_values=p_values,\n",
    "            alpha=alpha,\n",
    "        )\n",
    "        aa_research[correction.__name__].append(len(rejected))\n",
    "        \n",
    "aa_research_pd = pd.DataFrame(aa_research)"
   ]
  },
  {
   "cell_type": "code",
   "execution_count": 8,
   "metadata": {
    "tags": []
   },
   "outputs": [
    {
     "data": {
      "text/html": [
       "<style type=\"text/css\">\n",
       "#T_29e30_row0_col0 {\n",
       "  background-color: #67000d;\n",
       "  color: #f1f1f1;\n",
       "}\n",
       "#T_29e30_row0_col1 {\n",
       "  background-color: #6d010e;\n",
       "  color: #f1f1f1;\n",
       "}\n",
       "#T_29e30_row1_col0, #T_29e30_row1_col1, #T_29e30_row2_col0, #T_29e30_row2_col1, #T_29e30_row3_col1 {\n",
       "  background-color: #fff5f0;\n",
       "  color: #000000;\n",
       "}\n",
       "#T_29e30_row3_col0 {\n",
       "  background-color: #ffeee7;\n",
       "  color: #000000;\n",
       "}\n",
       "</style>\n",
       "<table id=\"T_29e30\">\n",
       "  <thead>\n",
       "    <tr>\n",
       "      <th class=\"blank level0\" >&nbsp;</th>\n",
       "      <th id=\"T_29e30_level0_col0\" class=\"col_heading level0 col0\" >Доля отклонённых гипотез</th>\n",
       "      <th id=\"T_29e30_level0_col1\" class=\"col_heading level0 col1\" >FWER</th>\n",
       "    </tr>\n",
       "    <tr>\n",
       "      <th class=\"index_name level0\" >метод</th>\n",
       "      <th class=\"blank col0\" >&nbsp;</th>\n",
       "      <th class=\"blank col1\" >&nbsp;</th>\n",
       "    </tr>\n",
       "  </thead>\n",
       "  <tbody>\n",
       "    <tr>\n",
       "      <th id=\"T_29e30_level0_row0\" class=\"row_heading level0 row0\" >no_correction</th>\n",
       "      <td id=\"T_29e30_row0_col0\" class=\"data row0 col0\" >0.292</td>\n",
       "      <td id=\"T_29e30_row0_col1\" class=\"data row0 col1\" >0.198</td>\n",
       "    </tr>\n",
       "    <tr>\n",
       "      <th id=\"T_29e30_level0_row1\" class=\"row_heading level0 row1\" >bonferroni</th>\n",
       "      <td id=\"T_29e30_row1_col0\" class=\"data row1 col0\" >0.048</td>\n",
       "      <td id=\"T_29e30_row1_col1\" class=\"data row1 col1\" >0.040</td>\n",
       "    </tr>\n",
       "    <tr>\n",
       "      <th id=\"T_29e30_level0_row2\" class=\"row_heading level0 row2\" >holm</th>\n",
       "      <td id=\"T_29e30_row2_col0\" class=\"data row2 col0\" >0.049</td>\n",
       "      <td id=\"T_29e30_row2_col1\" class=\"data row2 col1\" >0.040</td>\n",
       "    </tr>\n",
       "    <tr>\n",
       "      <th id=\"T_29e30_level0_row3\" class=\"row_heading level0 row3\" >ben_hoh</th>\n",
       "      <td id=\"T_29e30_row3_col0\" class=\"data row3 col0\" >0.056</td>\n",
       "      <td id=\"T_29e30_row3_col1\" class=\"data row3 col1\" >0.040</td>\n",
       "    </tr>\n",
       "  </tbody>\n",
       "</table>\n"
      ],
      "text/plain": [
       "<pandas.io.formats.style.Styler at 0x22dbd0b3ad0>"
      ]
     },
     "execution_count": 8,
     "metadata": {},
     "output_type": "execute_result"
    }
   ],
   "source": [
    "mean_values = aa_research_pd.mean()\n",
    "positive_proportion = (aa_research_pd > 0).mean()\n",
    "\n",
    "result_df = pd.DataFrame({\n",
    "    'Доля отклонённых гипотез': mean_values,\n",
    "    'FWER': positive_proportion\n",
    "})\n",
    "\n",
    "result_df.index.name = 'метод'\n",
    "\n",
    "result_df.style.format(\n",
    "    '{:.3f}',\n",
    "    ).highlight_null(\n",
    "        color=\"gray\",\n",
    "    ).background_gradient(\n",
    "        axis='columns',\n",
    "        cmap='Reds',\n",
    "        vmin=0.05,\n",
    "        vmax=0.2\n",
    "    )"
   ]
  },
  {
   "cell_type": "markdown",
   "metadata": {},
   "source": [
    "### Выводы\n",
    "**1) К каким последствиям приводит отсутствие применения каких либо поправок?**\n",
    "- Отклоняется 29% гипотез, а ошибка 1 рода вырастает до 0,2. \n",
    "- Применение любой из поправок позволяет удержать ошибку первого рода ниже заданного уровня.\n",
    "\n",
    "**2) Какая поправка является наиболее консервативной?**\n",
    "- Самой консервативной является поправка Бонферрони - она отклоняет меньше всего гипотез о равенстве (4,8%)\n",
    "\n",
    "**3) От какакой поправки ожидается наибольшая мощность?**\n",
    "- От поправки Бенжамини-Хохберга, так как она отклонила больше всего гипотез о равенстве, не считая случая отсутствия поправок (5,6%)"
   ]
  },
  {
   "cell_type": "markdown",
   "metadata": {
    "id": "--CwPtA1jmoT"
   },
   "source": [
    "# Множественная проверка: 2 группы и 5 метрик. 5 баллов"
   ]
  },
  {
   "cell_type": "markdown",
   "metadata": {
    "id": "SNIN8rmflflu"
   },
   "source": [
    "## Формулировка"
   ]
  },
  {
   "cell_type": "markdown",
   "metadata": {
    "id": "UbrD-72N9hOB"
   },
   "source": [
    "Проведите аналогичный анализ для случаях 2-ух метрик и 5 гипотез."
   ]
  },
  {
   "cell_type": "code",
   "execution_count": 43,
   "metadata": {
    "tags": []
   },
   "outputs": [],
   "source": [
    "metrics = [\n",
    "    'revenue',\n",
    "    'delivery_revenue',\n",
    "    'has_delivery',\n",
    "    'error_count',\n",
    "    'order_wo_delivery'\n",
    "]"
   ]
  },
  {
   "cell_type": "code",
   "execution_count": 53,
   "metadata": {
    "tags": []
   },
   "outputs": [
    {
     "name": "stderr",
     "output_type": "stream",
     "text": [
      "100%|██████████| 10000/10000 [01:48<00:00, 92.40it/s]\n"
     ]
    }
   ],
   "source": [
    "corrections = [\n",
    "      no_correction,\n",
    "      bonferroni,\n",
    "      holm,\n",
    "      ben_hoh,\n",
    "  ]\n",
    "alpha = 0.05\n",
    "aa_research = {correction.__name__: [] for correction in corrections}\n",
    "for _ in tqdm(range(10_000)):\n",
    "    p_values = []\n",
    "    for metric in metrics:\n",
    "        control, test = train_test_split(pre_data[metric], test_size=0.5)\n",
    "        p_v = ttest_ind(control, test).pvalue\n",
    "        p_values.append(p_v)\n",
    "        for correction in corrections:\n",
    "            rejected = correction(\n",
    "                p_values=p_values,\n",
    "                alpha=alpha,\n",
    "            )\n",
    "            aa_research[correction.__name__].append(len(rejected))\n",
    "        \n",
    "aa_research_pd = pd.DataFrame(aa_research)"
   ]
  },
  {
   "cell_type": "code",
   "execution_count": 54,
   "metadata": {
    "tags": []
   },
   "outputs": [
    {
     "data": {
      "text/html": [
       "<style type=\"text/css\">\n",
       "#T_57f20_row0_col0 {\n",
       "  background-color: #db2824;\n",
       "  color: #f1f1f1;\n",
       "}\n",
       "#T_57f20_row0_col1 {\n",
       "  background-color: #f03d2d;\n",
       "  color: #f1f1f1;\n",
       "}\n",
       "#T_57f20_row1_col0, #T_57f20_row1_col1, #T_57f20_row2_col0, #T_57f20_row2_col1, #T_57f20_row3_col1 {\n",
       "  background-color: #fff5f0;\n",
       "  color: #000000;\n",
       "}\n",
       "#T_57f20_row3_col0 {\n",
       "  background-color: #fff4ef;\n",
       "  color: #000000;\n",
       "}\n",
       "</style>\n",
       "<table id=\"T_57f20\">\n",
       "  <thead>\n",
       "    <tr>\n",
       "      <th class=\"blank level0\" >&nbsp;</th>\n",
       "      <th id=\"T_57f20_level0_col0\" class=\"col_heading level0 col0\" >Доля отклонённых гипотез</th>\n",
       "      <th id=\"T_57f20_level0_col1\" class=\"col_heading level0 col1\" >FWER</th>\n",
       "    </tr>\n",
       "    <tr>\n",
       "      <th class=\"index_name level0\" >метод</th>\n",
       "      <th class=\"blank col0\" >&nbsp;</th>\n",
       "      <th class=\"blank col1\" >&nbsp;</th>\n",
       "    </tr>\n",
       "  </thead>\n",
       "  <tbody>\n",
       "    <tr>\n",
       "      <th id=\"T_57f20_level0_row0\" class=\"row_heading level0 row0\" >no_correction</th>\n",
       "      <td id=\"T_57f20_row0_col0\" class=\"data row0 col0\" >0.154</td>\n",
       "      <td id=\"T_57f20_row0_col1\" class=\"data row0 col1\" >0.143</td>\n",
       "    </tr>\n",
       "    <tr>\n",
       "      <th id=\"T_57f20_level0_row1\" class=\"row_heading level0 row1\" >bonferroni</th>\n",
       "      <td id=\"T_57f20_row1_col0\" class=\"data row1 col0\" >0.049</td>\n",
       "      <td id=\"T_57f20_row1_col1\" class=\"data row1 col1\" >0.048</td>\n",
       "    </tr>\n",
       "    <tr>\n",
       "      <th id=\"T_57f20_level0_row2\" class=\"row_heading level0 row2\" >holm</th>\n",
       "      <td id=\"T_57f20_row2_col0\" class=\"data row2 col0\" >0.050</td>\n",
       "      <td id=\"T_57f20_row2_col1\" class=\"data row2 col1\" >0.048</td>\n",
       "    </tr>\n",
       "    <tr>\n",
       "      <th id=\"T_57f20_level0_row3\" class=\"row_heading level0 row3\" >ben_hoh</th>\n",
       "      <td id=\"T_57f20_row3_col0\" class=\"data row3 col0\" >0.051</td>\n",
       "      <td id=\"T_57f20_row3_col1\" class=\"data row3 col1\" >0.048</td>\n",
       "    </tr>\n",
       "  </tbody>\n",
       "</table>\n"
      ],
      "text/plain": [
       "<pandas.io.formats.style.Styler at 0x22dc60d8450>"
      ]
     },
     "execution_count": 54,
     "metadata": {},
     "output_type": "execute_result"
    }
   ],
   "source": [
    "mean_values = aa_research_pd.mean()\n",
    "positive_proportion = (aa_research_pd > 0).mean()\n",
    "\n",
    "result_df = pd.DataFrame({\n",
    "    'Доля отклонённых гипотез': mean_values,\n",
    "    'FWER': positive_proportion\n",
    "})\n",
    "\n",
    "result_df.index.name = 'метод'\n",
    "\n",
    "result_df.style.format(\n",
    "    '{:.3f}',\n",
    "    ).highlight_null(\n",
    "        color=\"gray\",\n",
    "    ).background_gradient(\n",
    "        axis='columns',\n",
    "        cmap='Reds',\n",
    "        vmin=0.05,\n",
    "        vmax=0.2\n",
    "    )"
   ]
  },
  {
   "cell_type": "markdown",
   "metadata": {},
   "source": [
    "### Вывод\n",
    "- Поправки значительно снизили долю отклонённых гипотез о равенстве и ошибку 1 рода.\n",
    "- Тем не менее, не можем использовать эти поправки для ситуации с множеством метрик, так как нарушается предпосылка о независимости наблюдений: метрики считаются по одним и тем же пользователям и скоррелированы между собой"
   ]
  }
 ],
 "metadata": {
  "colab": {
   "authorship_tag": "ABX9TyMA6WkNAihJ48grXthmrhGT",
   "provenance": [
    {
     "file_id": "1mwZpj-QtXroj747XeFVfnyFQG-l7et9u",
     "timestamp": 1725102744751
    },
    {
     "file_id": "1nKXRjuYsTaNCitMb4nCxq8F26DHCqHO7",
     "timestamp": 1723380687587
    },
    {
     "file_id": "1LTRyB7H2G874igc6blaHQncyWXOVOXv9",
     "timestamp": 1711302424516
    },
    {
     "file_id": "1woICFa6ZqyyRRJqYoCFg7a_4u2f3vBZX",
     "timestamp": 1711295161010
    }
   ]
  },
  "kernelspec": {
   "display_name": "Python 3 (ipykernel)",
   "language": "python",
   "name": "python3"
  },
  "language_info": {
   "codemirror_mode": {
    "name": "ipython",
    "version": 3
   },
   "file_extension": ".py",
   "mimetype": "text/x-python",
   "name": "python",
   "nbconvert_exporter": "python",
   "pygments_lexer": "ipython3",
   "version": "3.11.5"
  }
 },
 "nbformat": 4,
 "nbformat_minor": 4
}
